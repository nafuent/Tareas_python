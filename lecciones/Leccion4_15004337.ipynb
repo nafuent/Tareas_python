{
 "cells": [
  {
   "cell_type": "markdown",
   "id": "b13087ce",
   "metadata": {},
   "source": [
    "# 1.Sets"
   ]
  },
  {
   "cell_type": "code",
   "execution_count": 1,
   "id": "fc30fcd6",
   "metadata": {},
   "outputs": [],
   "source": [
    "sett = {1,2,3,4,5,\"hola\"}"
   ]
  },
  {
   "cell_type": "code",
   "execution_count": 2,
   "id": "71d4c5d5",
   "metadata": {},
   "outputs": [
    {
     "data": {
      "text/plain": [
       "{1, 2, 3, 4, 5, 'hola'}"
      ]
     },
     "execution_count": 2,
     "metadata": {},
     "output_type": "execute_result"
    }
   ],
   "source": [
    "sett"
   ]
  },
  {
   "cell_type": "code",
   "execution_count": 4,
   "id": "a0331bc6",
   "metadata": {},
   "outputs": [],
   "source": [
    "sett.add(10) #agregar al set\n"
   ]
  },
  {
   "cell_type": "code",
   "execution_count": 5,
   "id": "16e6049c",
   "metadata": {},
   "outputs": [
    {
     "data": {
      "text/plain": [
       "{1, 10, 2, 3, 4, 5, 'hola'}"
      ]
     },
     "execution_count": 5,
     "metadata": {},
     "output_type": "execute_result"
    }
   ],
   "source": [
    "sett"
   ]
  },
  {
   "cell_type": "code",
   "execution_count": 7,
   "id": "c0063f49",
   "metadata": {},
   "outputs": [],
   "source": [
    "sett.add(10)"
   ]
  },
  {
   "cell_type": "code",
   "execution_count": 8,
   "id": "76e6198e",
   "metadata": {},
   "outputs": [
    {
     "data": {
      "text/plain": [
       "{1, 10, 2, 3, 4, 5, 'hola'}"
      ]
     },
     "execution_count": 8,
     "metadata": {},
     "output_type": "execute_result"
    }
   ],
   "source": [
    "sett"
   ]
  },
  {
   "cell_type": "code",
   "execution_count": 9,
   "id": "c4c6d222",
   "metadata": {},
   "outputs": [],
   "source": [
    "set1 ={1,2,3,4,5}\n",
    "set2 ={5,6,7,8,9,4}\n"
   ]
  },
  {
   "cell_type": "code",
   "execution_count": 10,
   "id": "a3840202",
   "metadata": {},
   "outputs": [
    {
     "data": {
      "text/plain": [
       "{1, 2, 3, 4, 5, 6, 7, 8, 9}"
      ]
     },
     "execution_count": 10,
     "metadata": {},
     "output_type": "execute_result"
    }
   ],
   "source": [
    "set1.union(set2) #union"
   ]
  },
  {
   "cell_type": "code",
   "execution_count": 12,
   "id": "369c5564",
   "metadata": {},
   "outputs": [
    {
     "data": {
      "text/plain": [
       "{4, 5}"
      ]
     },
     "execution_count": 12,
     "metadata": {},
     "output_type": "execute_result"
    }
   ],
   "source": [
    "set1.intersection(set2) #interseccion"
   ]
  },
  {
   "cell_type": "code",
   "execution_count": 13,
   "id": "70747e52",
   "metadata": {},
   "outputs": [
    {
     "data": {
      "text/plain": [
       "{1, 2, 3}"
      ]
     },
     "execution_count": 13,
     "metadata": {},
     "output_type": "execute_result"
    }
   ],
   "source": [
    "set1.difference(set2) #Diferencia"
   ]
  },
  {
   "cell_type": "code",
   "execution_count": 15,
   "id": "34c8ae6c",
   "metadata": {},
   "outputs": [
    {
     "data": {
      "text/plain": [
       "{6, 7, 8, 9}"
      ]
     },
     "execution_count": 15,
     "metadata": {},
     "output_type": "execute_result"
    }
   ],
   "source": [
    "set2.difference(set1)"
   ]
  },
  {
   "cell_type": "code",
   "execution_count": 16,
   "id": "d3f06c9a",
   "metadata": {},
   "outputs": [
    {
     "data": {
      "text/plain": [
       "{1, 2, 3, 6, 7, 8, 9}"
      ]
     },
     "execution_count": 16,
     "metadata": {},
     "output_type": "execute_result"
    }
   ],
   "source": [
    "set1.symmetric_difference(set2) #diferencia simetrica"
   ]
  },
  {
   "cell_type": "code",
   "execution_count": 17,
   "id": "43bd94cf",
   "metadata": {},
   "outputs": [],
   "source": [
    "letras = {\"abc\",\"DFG\",\"hij\"}\n"
   ]
  },
  {
   "cell_type": "code",
   "execution_count": 18,
   "id": "f924ee42",
   "metadata": {},
   "outputs": [
    {
     "data": {
      "text/plain": [
       "{'DFG', 'abc', 'hij'}"
      ]
     },
     "execution_count": 18,
     "metadata": {},
     "output_type": "execute_result"
    }
   ],
   "source": [
    "letras"
   ]
  },
  {
   "cell_type": "code",
   "execution_count": 21,
   "id": "482fc641",
   "metadata": {},
   "outputs": [
    {
     "data": {
      "text/plain": [
       "{'ABC', 'DFG', 'HIJ'}"
      ]
     },
     "execution_count": 21,
     "metadata": {},
     "output_type": "execute_result"
    }
   ],
   "source": [
    "{l.upper() for l in letras } #devuelve un set"
   ]
  },
  {
   "cell_type": "markdown",
   "id": "59059006",
   "metadata": {},
   "source": [
    "# 2. Numpy"
   ]
  },
  {
   "cell_type": "code",
   "execution_count": 22,
   "id": "24933eae",
   "metadata": {},
   "outputs": [],
   "source": [
    "import numpy as np"
   ]
  },
  {
   "cell_type": "code",
   "execution_count": 23,
   "id": "962ca24f",
   "metadata": {},
   "outputs": [],
   "source": [
    "x = [1,2,3,4,5,]"
   ]
  },
  {
   "cell_type": "code",
   "execution_count": 24,
   "id": "4934d073",
   "metadata": {},
   "outputs": [
    {
     "data": {
      "text/plain": [
       "[1, 2, 3, 4, 5]"
      ]
     },
     "execution_count": 24,
     "metadata": {},
     "output_type": "execute_result"
    }
   ],
   "source": [
    "x\n"
   ]
  },
  {
   "cell_type": "code",
   "execution_count": 27,
   "id": "d2146e3e",
   "metadata": {},
   "outputs": [],
   "source": [
    "x =np.array([1,2,3,4,5,6], dtype=\"float\")"
   ]
  },
  {
   "cell_type": "code",
   "execution_count": 28,
   "id": "071d38ec",
   "metadata": {},
   "outputs": [
    {
     "data": {
      "text/plain": [
       "array([1., 2., 3., 4., 5., 6.])"
      ]
     },
     "execution_count": 28,
     "metadata": {},
     "output_type": "execute_result"
    }
   ],
   "source": [
    "x"
   ]
  },
  {
   "cell_type": "code",
   "execution_count": 29,
   "id": "1be7affb",
   "metadata": {},
   "outputs": [
    {
     "data": {
      "text/plain": [
       "array([ 1,  2,  3,  4,  5,  6,  7,  8,  9, 10])"
      ]
     },
     "execution_count": 29,
     "metadata": {},
     "output_type": "execute_result"
    }
   ],
   "source": [
    "np.arange(1,11,1)"
   ]
  },
  {
   "cell_type": "code",
   "execution_count": 30,
   "id": "a35a4e72",
   "metadata": {},
   "outputs": [
    {
     "data": {
      "text/plain": [
       "array([1.        , 1.44444444, 1.88888889, 2.33333333, 2.77777778,\n",
       "       3.22222222, 3.66666667, 4.11111111, 4.55555556, 5.        ])"
      ]
     },
     "execution_count": 30,
     "metadata": {},
     "output_type": "execute_result"
    }
   ],
   "source": [
    "np.linspace(1,5,10)"
   ]
  },
  {
   "cell_type": "code",
   "execution_count": 37,
   "id": "bce5b9e3",
   "metadata": {},
   "outputs": [],
   "source": [
    "x=np.zeros((10,10))"
   ]
  },
  {
   "cell_type": "code",
   "execution_count": 33,
   "id": "09f18cd8",
   "metadata": {},
   "outputs": [
    {
     "data": {
      "text/plain": [
       "array([1., 1., 1., 1., 1., 1., 1., 1., 1., 1.])"
      ]
     },
     "execution_count": 33,
     "metadata": {},
     "output_type": "execute_result"
    }
   ],
   "source": [
    "np.ones(10)"
   ]
  },
  {
   "cell_type": "code",
   "execution_count": 35,
   "id": "afc03d82",
   "metadata": {},
   "outputs": [
    {
     "data": {
      "text/plain": [
       "array([0., 0., 0., 0., 0., 0.])"
      ]
     },
     "execution_count": 35,
     "metadata": {},
     "output_type": "execute_result"
    }
   ],
   "source": [
    "np.zeros_like(x)"
   ]
  },
  {
   "cell_type": "code",
   "execution_count": 40,
   "id": "f90cb6b0",
   "metadata": {},
   "outputs": [
    {
     "data": {
      "text/plain": [
       "(10, 10)"
      ]
     },
     "execution_count": 40,
     "metadata": {},
     "output_type": "execute_result"
    }
   ],
   "source": [
    "#dimensiones del tensor\n",
    "x.shape #cantidad de elementos que tiene cada dimension"
   ]
  },
  {
   "cell_type": "code",
   "execution_count": 39,
   "id": "bd57796b",
   "metadata": {},
   "outputs": [
    {
     "data": {
      "text/plain": [
       "2"
      ]
     },
     "execution_count": 39,
     "metadata": {},
     "output_type": "execute_result"
    }
   ],
   "source": [
    "#rango del tensor\n",
    "x.ndim #cantidad de dimensiones"
   ]
  },
  {
   "cell_type": "code",
   "execution_count": 41,
   "id": "93d497e0",
   "metadata": {},
   "outputs": [
    {
     "data": {
      "text/plain": [
       "0.0"
      ]
     },
     "execution_count": 41,
     "metadata": {},
     "output_type": "execute_result"
    }
   ],
   "source": [
    "x[2,1]"
   ]
  },
  {
   "cell_type": "code",
   "execution_count": 42,
   "id": "6ef0789b",
   "metadata": {},
   "outputs": [],
   "source": [
    "x = np.array([[[10, 20, 30, 40, 50], \n",
    "               [60, 70, 80, 90, 100]], \n",
    "               [[100, 200, 300, 400, 500], \n",
    "                [600, 700, 800, 900, 1000]]\n",
    "            ])"
   ]
  },
  {
   "cell_type": "code",
   "execution_count": 43,
   "id": "3f4afdbb",
   "metadata": {},
   "outputs": [
    {
     "data": {
      "text/plain": [
       "array([[[  10,   20,   30,   40,   50],\n",
       "        [  60,   70,   80,   90,  100]],\n",
       "\n",
       "       [[ 100,  200,  300,  400,  500],\n",
       "        [ 600,  700,  800,  900, 1000]]])"
      ]
     },
     "execution_count": 43,
     "metadata": {},
     "output_type": "execute_result"
    }
   ],
   "source": [
    "x\n"
   ]
  },
  {
   "cell_type": "code",
   "execution_count": 44,
   "id": "87675ca5",
   "metadata": {},
   "outputs": [
    {
     "data": {
      "text/plain": [
       "3"
      ]
     },
     "execution_count": 44,
     "metadata": {},
     "output_type": "execute_result"
    }
   ],
   "source": [
    "x.ndim"
   ]
  },
  {
   "cell_type": "code",
   "execution_count": 45,
   "id": "88ea2494",
   "metadata": {},
   "outputs": [
    {
     "data": {
      "text/plain": [
       "(2, 2, 5)"
      ]
     },
     "execution_count": 45,
     "metadata": {},
     "output_type": "execute_result"
    }
   ],
   "source": [
    "x.shape"
   ]
  },
  {
   "cell_type": "code",
   "execution_count": 46,
   "id": "a5e1d33d",
   "metadata": {},
   "outputs": [
    {
     "data": {
      "text/plain": [
       "array([[ 10,  20,  30,  40,  50],\n",
       "       [ 60,  70,  80,  90, 100]])"
      ]
     },
     "execution_count": 46,
     "metadata": {},
     "output_type": "execute_result"
    }
   ],
   "source": [
    "x[0]"
   ]
  },
  {
   "cell_type": "code",
   "execution_count": 48,
   "id": "a2f5ba2b",
   "metadata": {},
   "outputs": [
    {
     "data": {
      "text/plain": [
       "90"
      ]
     },
     "execution_count": 48,
     "metadata": {},
     "output_type": "execute_result"
    }
   ],
   "source": [
    "x[0,1,3]"
   ]
  },
  {
   "cell_type": "code",
   "execution_count": 49,
   "id": "64b4736b",
   "metadata": {},
   "outputs": [
    {
     "data": {
      "text/plain": [
       "1000"
      ]
     },
     "execution_count": 49,
     "metadata": {},
     "output_type": "execute_result"
    }
   ],
   "source": [
    "x[1,1,4]"
   ]
  },
  {
   "cell_type": "code",
   "execution_count": 50,
   "id": "949f7b14",
   "metadata": {},
   "outputs": [],
   "source": [
    "v = np.arange(1,6,1)"
   ]
  },
  {
   "cell_type": "code",
   "execution_count": 51,
   "id": "e5ac1c09",
   "metadata": {},
   "outputs": [
    {
     "data": {
      "text/plain": [
       "array([1, 2, 3, 4, 5])"
      ]
     },
     "execution_count": 51,
     "metadata": {},
     "output_type": "execute_result"
    }
   ],
   "source": [
    "v"
   ]
  },
  {
   "cell_type": "code",
   "execution_count": 52,
   "id": "4b53dd52",
   "metadata": {},
   "outputs": [],
   "source": [
    "w = np.arange(6,11,1)"
   ]
  },
  {
   "cell_type": "code",
   "execution_count": 53,
   "id": "569bd2bd",
   "metadata": {},
   "outputs": [
    {
     "name": "stdout",
     "output_type": "stream",
     "text": [
      "[ 7  9 11 13 15]\n"
     ]
    }
   ],
   "source": [
    "print(v+w)"
   ]
  },
  {
   "cell_type": "code",
   "execution_count": 54,
   "id": "a57ff6d1",
   "metadata": {},
   "outputs": [
    {
     "data": {
      "text/plain": [
       "array([ 6,  7,  8,  9, 10])"
      ]
     },
     "execution_count": 54,
     "metadata": {},
     "output_type": "execute_result"
    }
   ],
   "source": [
    "w"
   ]
  },
  {
   "cell_type": "code",
   "execution_count": 57,
   "id": "88cf7542",
   "metadata": {},
   "outputs": [
    {
     "name": "stdout",
     "output_type": "stream",
     "text": [
      "[-5 -5 -5 -5 -5]\n",
      "[ 6 14 24 36 50]\n",
      "[0.16666667 0.28571429 0.375      0.44444444 0.5       ]\n"
     ]
    }
   ],
   "source": [
    "print(v-w)\n",
    "print(v*w)\n",
    "print(v/w)"
   ]
  },
  {
   "cell_type": "code",
   "execution_count": 59,
   "id": "11635083",
   "metadata": {},
   "outputs": [
    {
     "data": {
      "text/plain": [
       "array([ 2,  4,  6,  8, 10])"
      ]
     },
     "execution_count": 59,
     "metadata": {},
     "output_type": "execute_result"
    }
   ],
   "source": [
    "#broadcasting\n",
    "v*2\n"
   ]
  },
  {
   "cell_type": "code",
   "execution_count": 60,
   "id": "3fc94460",
   "metadata": {},
   "outputs": [
    {
     "name": "stdout",
     "output_type": "stream",
     "text": [
      "[0.5 1.  1.5 2.  2.5]\n",
      "[ 6  7  8  9 10]\n",
      "[-9 -8 -7 -6 -5]\n",
      "[1 0 1 0 1]\n"
     ]
    }
   ],
   "source": [
    "print(v/2)\n",
    "print(v+5)\n",
    "print(v-10)\n",
    "print(v%2)"
   ]
  },
  {
   "cell_type": "code",
   "execution_count": 61,
   "id": "8ea5c546",
   "metadata": {},
   "outputs": [
    {
     "ename": "TypeError",
     "evalue": "can only concatenate list (not \"int\") to list",
     "output_type": "error",
     "traceback": [
      "\u001b[1;31m---------------------------------------------------------------------------\u001b[0m",
      "\u001b[1;31mTypeError\u001b[0m                                 Traceback (most recent call last)",
      "Cell \u001b[1;32mIn[61], line 2\u001b[0m\n\u001b[0;32m      1\u001b[0m x \u001b[38;5;241m=\u001b[39m [\u001b[38;5;241m1\u001b[39m,\u001b[38;5;241m2\u001b[39m,\u001b[38;5;241m3\u001b[39m]\n\u001b[1;32m----> 2\u001b[0m x\u001b[38;5;241m+\u001b[39m\u001b[38;5;241m2\u001b[39m\n",
      "\u001b[1;31mTypeError\u001b[0m: can only concatenate list (not \"int\") to list"
     ]
    }
   ],
   "source": [
    "# en listas normales no puede hacer broadcasting\n",
    "\n",
    "x = [1,2,3]\n",
    "x+2"
   ]
  },
  {
   "cell_type": "markdown",
   "id": "75f4c86e",
   "metadata": {},
   "source": [
    "### 2.3 Funciones universales "
   ]
  },
  {
   "cell_type": "code",
   "execution_count": 62,
   "id": "c666bd12",
   "metadata": {},
   "outputs": [],
   "source": [
    "x = np.array([-2,-1,0,1,1,3,6])"
   ]
  },
  {
   "cell_type": "code",
   "execution_count": 63,
   "id": "5bd69ed7",
   "metadata": {},
   "outputs": [
    {
     "data": {
      "text/plain": [
       "array([-2, -1,  0,  1,  1,  3,  6])"
      ]
     },
     "execution_count": 63,
     "metadata": {},
     "output_type": "execute_result"
    }
   ],
   "source": [
    "x"
   ]
  },
  {
   "cell_type": "code",
   "execution_count": 64,
   "id": "bc42a2f7",
   "metadata": {},
   "outputs": [
    {
     "name": "stdout",
     "output_type": "stream",
     "text": [
      "[-1 -1  0  1  1  1  1]\n"
     ]
    }
   ],
   "source": [
    "print(np.sign(x))"
   ]
  },
  {
   "cell_type": "code",
   "execution_count": 71,
   "id": "4d6988f3",
   "metadata": {},
   "outputs": [
    {
     "name": "stdout",
     "output_type": "stream",
     "text": [
      "[2 1 0 1 1 3 6]\n",
      "[-0.41614684  0.54030231  1.          0.54030231  0.54030231 -0.9899925\n",
      "  0.96017029]\n",
      "[-0.90929743 -0.84147098  0.          0.84147098  0.84147098  0.14112001\n",
      " -0.2794155 ]\n",
      "[1.35335283e-01 3.67879441e-01 1.00000000e+00 2.71828183e+00\n",
      " 2.71828183e+00 2.00855369e+01 4.03428793e+02]\n",
      "[       nan        nan       -inf 0.         0.         1.09861229\n",
      " 1.79175947]\n"
     ]
    },
    {
     "name": "stderr",
     "output_type": "stream",
     "text": [
      "C:\\Users\\XPRS\\AppData\\Local\\Temp\\ipykernel_14564\\1468565477.py:5: RuntimeWarning: divide by zero encountered in log\n",
      "  print(np.log(x))\n",
      "C:\\Users\\XPRS\\AppData\\Local\\Temp\\ipykernel_14564\\1468565477.py:5: RuntimeWarning: invalid value encountered in log\n",
      "  print(np.log(x))\n"
     ]
    }
   ],
   "source": [
    "print(np.abs(x))\n",
    "print(np.cos(x))\n",
    "print(np.sin(x))\n",
    "print(np.exp(x))\n",
    "print(np.log(x))"
   ]
  },
  {
   "cell_type": "code",
   "execution_count": 72,
   "id": "56a922c7",
   "metadata": {},
   "outputs": [
    {
     "name": "stdout",
     "output_type": "stream",
     "text": [
      "nan\n"
     ]
    },
    {
     "name": "stderr",
     "output_type": "stream",
     "text": [
      "C:\\Users\\XPRS\\AppData\\Local\\Temp\\ipykernel_14564\\1916674522.py:1: RuntimeWarning: divide by zero encountered in log\n",
      "  print(np.log(x)[0])\n",
      "C:\\Users\\XPRS\\AppData\\Local\\Temp\\ipykernel_14564\\1916674522.py:1: RuntimeWarning: invalid value encountered in log\n",
      "  print(np.log(x)[0])\n"
     ]
    }
   ],
   "source": [
    "print(np.log(x)[0])"
   ]
  },
  {
   "cell_type": "code",
   "execution_count": 73,
   "id": "367f3926",
   "metadata": {},
   "outputs": [
    {
     "name": "stdout",
     "output_type": "stream",
     "text": [
      "[       nan        nan 0.         1.         1.         1.73205081\n",
      " 2.44948974]\n"
     ]
    },
    {
     "name": "stderr",
     "output_type": "stream",
     "text": [
      "C:\\Users\\XPRS\\AppData\\Local\\Temp\\ipykernel_14564\\2965746161.py:1: RuntimeWarning: invalid value encountered in sqrt\n",
      "  print(np.sqrt(x))\n"
     ]
    }
   ],
   "source": [
    "print(np.sqrt(x))"
   ]
  },
  {
   "cell_type": "code",
   "execution_count": 74,
   "id": "3682041b",
   "metadata": {},
   "outputs": [],
   "source": [
    "x = np.array([1,2,3,4,5,6,7,8,9,2,2])\n",
    "x_nan = np.array([1,2,3,4, np.nan, 6, 8, 10, np.nan])"
   ]
  },
  {
   "cell_type": "code",
   "execution_count": 75,
   "id": "c5bf835d",
   "metadata": {},
   "outputs": [
    {
     "data": {
      "text/plain": [
       "array([1, 2, 3, 4, 5, 6, 7, 8, 9, 2, 2])"
      ]
     },
     "execution_count": 75,
     "metadata": {},
     "output_type": "execute_result"
    }
   ],
   "source": [
    "x"
   ]
  },
  {
   "cell_type": "code",
   "execution_count": 76,
   "id": "f5b3b140",
   "metadata": {},
   "outputs": [
    {
     "data": {
      "text/plain": [
       "array([ 1.,  2.,  3.,  4., nan,  6.,  8., 10., nan])"
      ]
     },
     "execution_count": 76,
     "metadata": {},
     "output_type": "execute_result"
    }
   ],
   "source": [
    "x_nan"
   ]
  },
  {
   "cell_type": "code",
   "execution_count": 77,
   "id": "fac4de7e",
   "metadata": {},
   "outputs": [
    {
     "data": {
      "text/plain": [
       "4.454545454545454"
      ]
     },
     "execution_count": 77,
     "metadata": {},
     "output_type": "execute_result"
    }
   ],
   "source": [
    "np.mean(x) ## sacar la media"
   ]
  },
  {
   "cell_type": "code",
   "execution_count": 79,
   "id": "04449c11",
   "metadata": {},
   "outputs": [
    {
     "data": {
      "text/plain": [
       "4.857142857142857"
      ]
     },
     "execution_count": 79,
     "metadata": {},
     "output_type": "execute_result"
    }
   ],
   "source": [
    "np.nanmean(x_nan) ## media para los casos donde hay nan"
   ]
  },
  {
   "cell_type": "code",
   "execution_count": 81,
   "id": "c61dc592",
   "metadata": {},
   "outputs": [
    {
     "data": {
      "text/plain": [
       "nan"
      ]
     },
     "execution_count": 81,
     "metadata": {},
     "output_type": "execute_result"
    }
   ],
   "source": [
    "np.mean(x_nan)"
   ]
  },
  {
   "cell_type": "code",
   "execution_count": 82,
   "id": "acb4b52d",
   "metadata": {},
   "outputs": [
    {
     "data": {
      "text/plain": [
       "9"
      ]
     },
     "execution_count": 82,
     "metadata": {},
     "output_type": "execute_result"
    }
   ],
   "source": [
    "np.max(x)"
   ]
  },
  {
   "cell_type": "code",
   "execution_count": 85,
   "id": "1abc60bd",
   "metadata": {},
   "outputs": [
    {
     "name": "stdout",
     "output_type": "stream",
     "text": [
      "9\n",
      "10.0\n"
     ]
    }
   ],
   "source": [
    "print(np.max(x))\n",
    "print(np.nanmax(x_nan))"
   ]
  },
  {
   "cell_type": "code",
   "execution_count": 86,
   "id": "0eb62666",
   "metadata": {},
   "outputs": [
    {
     "name": "stdout",
     "output_type": "stream",
     "text": [
      "1\n",
      "1.0\n"
     ]
    }
   ],
   "source": [
    "print(np.min(x))\n",
    "print(np.nanmin(x_nan))"
   ]
  },
  {
   "cell_type": "code",
   "execution_count": 87,
   "id": "87e84678",
   "metadata": {},
   "outputs": [
    {
     "name": "stdout",
     "output_type": "stream",
     "text": [
      "6.793388429752068\n",
      "9.26530612244898\n"
     ]
    }
   ],
   "source": [
    "print(np.var(x))\n",
    "print(np.nanvar(x_nan))"
   ]
  },
  {
   "cell_type": "code",
   "execution_count": 88,
   "id": "66065eee",
   "metadata": {},
   "outputs": [
    {
     "name": "stdout",
     "output_type": "stream",
     "text": [
      "2.6064129430602643\n",
      "3.0438965360946453\n"
     ]
    }
   ],
   "source": [
    "print(np.std(x))\n",
    "print(np.nanstd(x_nan))"
   ]
  },
  {
   "cell_type": "code",
   "execution_count": 89,
   "id": "769837d2",
   "metadata": {},
   "outputs": [
    {
     "name": "stdout",
     "output_type": "stream",
     "text": [
      "1451520\n",
      "11520.0\n"
     ]
    }
   ],
   "source": [
    "print(np.prod(x))\n",
    "print(np.nanprod(x_nan))"
   ]
  },
  {
   "cell_type": "code",
   "execution_count": 90,
   "id": "c982556f",
   "metadata": {},
   "outputs": [
    {
     "name": "stdout",
     "output_type": "stream",
     "text": [
      "8\n",
      "7\n"
     ]
    }
   ],
   "source": [
    "print(np.argmax(x))\n",
    "print(np.nanargmax(x_nan))"
   ]
  },
  {
   "cell_type": "code",
   "execution_count": 91,
   "id": "96817f45",
   "metadata": {},
   "outputs": [
    {
     "name": "stdout",
     "output_type": "stream",
     "text": [
      "0\n",
      "0\n"
     ]
    }
   ],
   "source": [
    "print(np.argmin(x)) #posicion del valor mas pequeño\n",
    "print(np.nanargmin(x_nan))"
   ]
  },
  {
   "cell_type": "code",
   "execution_count": 92,
   "id": "e1b3630c",
   "metadata": {},
   "outputs": [
    {
     "name": "stdout",
     "output_type": "stream",
     "text": [
      "4.0\n",
      "4.0\n"
     ]
    }
   ],
   "source": [
    "print(np.median(x))\n",
    "print(np.nanmedian(x_nan))"
   ]
  },
  {
   "cell_type": "code",
   "execution_count": null,
   "id": "08701dde",
   "metadata": {},
   "outputs": [],
   "source": []
  }
 ],
 "metadata": {
  "kernelspec": {
   "display_name": "Python 3 (ipykernel)",
   "language": "python",
   "name": "python3"
  },
  "language_info": {
   "codemirror_mode": {
    "name": "ipython",
    "version": 3
   },
   "file_extension": ".py",
   "mimetype": "text/x-python",
   "name": "python",
   "nbconvert_exporter": "python",
   "pygments_lexer": "ipython3",
   "version": "3.11.5"
  }
 },
 "nbformat": 4,
 "nbformat_minor": 5
}
