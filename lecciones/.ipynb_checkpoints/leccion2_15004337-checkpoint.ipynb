{
 "cells": [
  {
   "cell_type": "markdown",
   "id": "261b0fe2-2592-454f-9045-d33b9cb0fba5",
   "metadata": {},
   "source": [
    "## 1. Operaciones Básicas"
   ]
  },
  {
   "cell_type": "code",
   "execution_count": 4,
   "id": "19d10f7c-4cfa-4089-99b7-fbb6f0235e48",
   "metadata": {},
   "outputs": [
    {
     "data": {
      "text/plain": [
       "7"
      ]
     },
     "execution_count": 4,
     "metadata": {},
     "output_type": "execute_result"
    }
   ],
   "source": [
    "2+5"
   ]
  },
  {
   "cell_type": "code",
   "execution_count": 5,
   "id": "b30b3790-8eed-4a0d-9ae7-5aa5d6d65ed8",
   "metadata": {},
   "outputs": [
    {
     "data": {
      "text/plain": [
       "45"
      ]
     },
     "execution_count": 5,
     "metadata": {},
     "output_type": "execute_result"
    }
   ],
   "source": [
    "5*9"
   ]
  },
  {
   "cell_type": "code",
   "execution_count": 6,
   "id": "69bec219-6e42-4258-823a-16f9913d6bff",
   "metadata": {},
   "outputs": [
    {
     "data": {
      "text/plain": [
       "-4"
      ]
     },
     "execution_count": 6,
     "metadata": {},
     "output_type": "execute_result"
    }
   ],
   "source": [
    "5-9"
   ]
  },
  {
   "cell_type": "code",
   "execution_count": 7,
   "id": "7b77942a-35bd-49f3-924e-6b51ded5ef26",
   "metadata": {},
   "outputs": [
    {
     "data": {
      "text/plain": [
       "1.75"
      ]
     },
     "execution_count": 7,
     "metadata": {},
     "output_type": "execute_result"
    }
   ],
   "source": [
    "7/4"
   ]
  },
  {
   "cell_type": "code",
   "execution_count": 8,
   "id": "8c378adb-caa4-461c-860f-c3af9d1cdd65",
   "metadata": {},
   "outputs": [
    {
     "data": {
      "text/plain": [
       "27"
      ]
     },
     "execution_count": 8,
     "metadata": {},
     "output_type": "execute_result"
    }
   ],
   "source": [
    "3**3"
   ]
  },
  {
   "cell_type": "code",
   "execution_count": 9,
   "id": "db393a79-a49e-473f-8903-98f3bc97cd52",
   "metadata": {},
   "outputs": [
    {
     "data": {
      "text/plain": [
       "1"
      ]
     },
     "execution_count": 9,
     "metadata": {},
     "output_type": "execute_result"
    }
   ],
   "source": [
    "7//4"
   ]
  },
  {
   "cell_type": "code",
   "execution_count": 12,
   "id": "799a099b-9f92-4475-bde1-b8f39e7e1c4d",
   "metadata": {},
   "outputs": [
    {
     "data": {
      "text/plain": [
       "2"
      ]
     },
     "execution_count": 12,
     "metadata": {},
     "output_type": "execute_result"
    }
   ],
   "source": [
    "23%7 #esto es un comentario"
   ]
  },
  {
   "cell_type": "code",
   "execution_count": 14,
   "id": "32e91436-19c2-4824-a78e-d3915f076712",
   "metadata": {},
   "outputs": [
    {
     "data": {
      "text/plain": [
       "'\\n   esto es un comentario\\n   de varias lines\\n'"
      ]
     },
     "execution_count": 14,
     "metadata": {},
     "output_type": "execute_result"
    }
   ],
   "source": [
    "'''\n",
    "   esto es un comentario\n",
    "   de varias lines\n",
    "'''"
   ]
  },
  {
   "cell_type": "code",
   "execution_count": 16,
   "id": "1066d8fa-d89b-402f-98d8-0495ec16c6f6",
   "metadata": {},
   "outputs": [
    {
     "data": {
      "text/plain": [
       "' esto es un comentario \\nde varias lineas '"
      ]
     },
     "execution_count": 16,
     "metadata": {},
     "output_type": "execute_result"
    }
   ],
   "source": [
    "\"\"\" esto es un comentario \n",
    "de varias lineas \"\"\""
   ]
  },
  {
   "cell_type": "markdown",
   "id": "c4d3de97-d2df-4999-8bd5-3932dab52af6",
   "metadata": {},
   "source": [
    "## 2.Despliege en pantalla"
   ]
  },
  {
   "cell_type": "code",
   "execution_count": 18,
   "id": "b6ad2409-5cf8-479e-947a-e2b97e893935",
   "metadata": {},
   "outputs": [
    {
     "name": "stdout",
     "output_type": "stream",
     "text": [
      "hola mundo\n"
     ]
    }
   ],
   "source": [
    "print(\"hola mundo\")"
   ]
  },
  {
   "cell_type": "code",
   "execution_count": 21,
   "id": "1b2c215a-e230-43b5-b210-081bd1082924",
   "metadata": {},
   "outputs": [
    {
     "name": "stdout",
     "output_type": "stream",
     "text": [
      "hola 'a' todos\n"
     ]
    }
   ],
   "source": [
    "a = \"hola 'a' todos\"\n",
    "print(a)"
   ]
  },
  {
   "cell_type": "code",
   "execution_count": 23,
   "id": "1734f391-ec26-44ef-a886-c491e9533d7f",
   "metadata": {},
   "outputs": [
    {
     "name": "stdout",
     "output_type": "stream",
     "text": [
      "hola \"a\" toods\n"
     ]
    }
   ],
   "source": [
    "a= 'hola \"a\" toods'\n",
    "print(a)"
   ]
  },
  {
   "cell_type": "code",
   "execution_count": 24,
   "id": "94eb7704-fc0d-4e24-bbc2-e2bcd7c4e645",
   "metadata": {},
   "outputs": [
    {
     "data": {
      "text/plain": [
       "'hola hola hola hola hola '"
      ]
     },
     "execution_count": 24,
     "metadata": {},
     "output_type": "execute_result"
    }
   ],
   "source": [
    "\"hola \"*5"
   ]
  },
  {
   "cell_type": "code",
   "execution_count": 28,
   "id": "a30d83ef-0767-4e85-b4a6-79ca884d6974",
   "metadata": {},
   "outputs": [
    {
     "name": "stdout",
     "output_type": "stream",
     "text": [
      " el resultado es: cinco\n"
     ]
    }
   ],
   "source": [
    "a=5\n",
    "print(\" el resultado es: \"+ \"cinco\")"
   ]
  },
  {
   "cell_type": "code",
   "execution_count": 30,
   "id": "58aa2a1e-88be-4268-8c4b-b4176e33ff97",
   "metadata": {},
   "outputs": [
    {
     "name": "stdout",
     "output_type": "stream",
     "text": [
      "el resultado es 5\n"
     ]
    }
   ],
   "source": [
    "a = 5 \n",
    "print( \"el resultado es \" + str(a))"
   ]
  },
  {
   "cell_type": "code",
   "execution_count": 31,
   "id": "0a93e28f-a884-4431-a1a8-f36a59f8c11e",
   "metadata": {},
   "outputs": [],
   "source": [
    "a=5"
   ]
  },
  {
   "cell_type": "code",
   "execution_count": 32,
   "id": "6c7cf909-1462-41eb-9c0d-a97d757c229d",
   "metadata": {},
   "outputs": [
    {
     "name": "stdout",
     "output_type": "stream",
     "text": [
      "el resultado es  5\n"
     ]
    }
   ],
   "source": [
    "print(\"el resultado es \",a)"
   ]
  },
  {
   "cell_type": "code",
   "execution_count": 33,
   "id": "3c5810cb-c3f6-4d8d-8d4f-0c1cf8db8c8c",
   "metadata": {},
   "outputs": [
    {
     "name": "stdout",
     "output_type": "stream",
     "text": [
      "el resultado es 11\n"
     ]
    }
   ],
   "source": [
    "print(f\"el resultado es {5+6}\")"
   ]
  },
  {
   "cell_type": "code",
   "execution_count": 39,
   "id": "ad49d40d-de38-42d0-a5e4-28090622bcf1",
   "metadata": {},
   "outputs": [
    {
     "name": "stdout",
     "output_type": "stream",
     "text": [
      "la suma de 5+6=11\n"
     ]
    }
   ],
   "source": [
    "a=5 \n",
    "b=6\n",
    "c=a+b\n",
    "salida = f\"la suma de {a}+{b}={c}\" #template literals\n",
    "print(salida)"
   ]
  },
  {
   "cell_type": "code",
   "execution_count": 38,
   "id": "2c4ab8ec-b3be-4c49-ab0f-7d0672545ce7",
   "metadata": {},
   "outputs": [
    {
     "name": "stdout",
     "output_type": "stream",
     "text": [
      "la suma de 5+6=11\n"
     ]
    }
   ],
   "source": [
    "\n",
    "salida = \"la suma de {}+{}={}\".format(a,b,c)\n",
    "print(salida)"
   ]
  },
  {
   "cell_type": "code",
   "execution_count": 41,
   "id": "ef008c28-eb20-40b9-bf8c-43555b3b153c",
   "metadata": {},
   "outputs": [
    {
     "name": "stdout",
     "output_type": "stream",
     "text": [
      "la suma de 5 + 6 es 11\n"
     ]
    }
   ],
   "source": [
    "salida = \"la suma de \" + str(a) + \" + \" +str(b) +\" es \"+ str(c)\n",
    "print(salida)"
   ]
  },
  {
   "cell_type": "code",
   "execution_count": 43,
   "id": "db23796b-1ae1-46b8-9785-4db5d2fe7d1a",
   "metadata": {},
   "outputs": [
    {
     "name": "stdin",
     "output_type": "stream",
     "text": [
      "ingrese numero 44\n"
     ]
    },
    {
     "name": "stdout",
     "output_type": "stream",
     "text": [
      "entrada =44\n"
     ]
    }
   ],
   "source": [
    "entrada = input (\"ingrese numero\")\n",
    "print(f\"entrada ={entrada}\")\n"
   ]
  },
  {
   "cell_type": "markdown",
   "id": "b8b87c44-0d62-41b4-9ca1-508a2772bb7f",
   "metadata": {},
   "source": [
    "a = input(\"ingrese numero\")\n",
    "b = input(\"ingrese otro numero\")\n",
    "print(f\"entrada ={a + b}\")"
   ]
  },
  {
   "cell_type": "markdown",
   "id": "67b56805-f865-4192-a0b9-6515beb54a6a",
   "metadata": {},
   "source": [
    "## 3. Variables y Tipos de datos"
   ]
  },
  {
   "cell_type": "code",
   "execution_count": 48,
   "id": "bf2b852f-627b-41ad-a73d-2d19963a5934",
   "metadata": {},
   "outputs": [
    {
     "data": {
      "text/plain": [
       "'esto es un string'"
      ]
     },
     "execution_count": 48,
     "metadata": {},
     "output_type": "execute_result"
    }
   ],
   "source": [
    "miString =\"esto es un string\"\n",
    "miString"
   ]
  },
  {
   "cell_type": "code",
   "execution_count": 50,
   "id": "dafecce1-2c0d-4ecd-9373-a792675d1c97",
   "metadata": {},
   "outputs": [
    {
     "name": "stdout",
     "output_type": "stream",
     "text": [
      "e\n"
     ]
    }
   ],
   "source": [
    "print(miString[5])\n"
   ]
  },
  {
   "cell_type": "code",
   "execution_count": 52,
   "id": "8639697c-ee8c-48c5-9e8f-feabca3fa01e",
   "metadata": {},
   "outputs": [
    {
     "data": {
      "text/plain": [
       "'t'"
      ]
     },
     "execution_count": 52,
     "metadata": {},
     "output_type": "execute_result"
    }
   ],
   "source": [
    "miString[2:3] # on incluye el limite superior del substring"
   ]
  },
  {
   "cell_type": "code",
   "execution_count": 53,
   "id": "4f22219f-3ef4-4f19-94b1-c547769eb22c",
   "metadata": {},
   "outputs": [
    {
     "data": {
      "text/plain": [
       "'g'"
      ]
     },
     "execution_count": 53,
     "metadata": {},
     "output_type": "execute_result"
    }
   ],
   "source": [
    "miString [-1]"
   ]
  },
  {
   "cell_type": "code",
   "execution_count": 57,
   "id": "f449eea5-9cf5-496a-932d-8d67f6a3a457",
   "metadata": {},
   "outputs": [
    {
     "data": {
      "text/plain": [
       "'string'"
      ]
     },
     "execution_count": 57,
     "metadata": {},
     "output_type": "execute_result"
    }
   ],
   "source": [
    "miString[-6:]"
   ]
  },
  {
   "cell_type": "code",
   "execution_count": 58,
   "id": "82251422-faa8-4595-8424-36d200f65f9a",
   "metadata": {},
   "outputs": [
    {
     "data": {
      "text/plain": [
       "'es un string'"
      ]
     },
     "execution_count": 58,
     "metadata": {},
     "output_type": "execute_result"
    }
   ],
   "source": [
    "miString[5:]"
   ]
  },
  {
   "cell_type": "markdown",
   "id": "3a994d84-9635-405b-9445-8d79d0cbef03",
   "metadata": {},
   "source": [
    "#### 3.2 Enteros"
   ]
  },
  {
   "cell_type": "code",
   "execution_count": 59,
   "id": "5b4a9dfd-68d5-4b10-ab7c-b35d197d882f",
   "metadata": {},
   "outputs": [
    {
     "data": {
      "text/plain": [
       "5"
      ]
     },
     "execution_count": 59,
     "metadata": {},
     "output_type": "execute_result"
    }
   ],
   "source": [
    "entero =5\n",
    "entero"
   ]
  },
  {
   "cell_type": "code",
   "execution_count": 65,
   "id": "5e2503f7-dd0b-41e6-b981-c2ac29b0eb0f",
   "metadata": {},
   "outputs": [
    {
     "name": "stdout",
     "output_type": "stream",
     "text": [
      "<class 'float'>\n"
     ]
    },
    {
     "data": {
      "text/plain": [
       "5"
      ]
     },
     "execution_count": 65,
     "metadata": {},
     "output_type": "execute_result"
    }
   ],
   "source": [
    "a =5.566664\n",
    "print(type(a))\n",
    "a = int(a)\n",
    "a"
   ]
  },
  {
   "cell_type": "code",
   "execution_count": 66,
   "id": "bfe16f76-a5ba-42ff-8816-16a6be3d48b3",
   "metadata": {},
   "outputs": [
    {
     "ename": "ValueError",
     "evalue": "invalid literal for int() with base 10: 'hola'",
     "output_type": "error",
     "traceback": [
      "\u001b[1;31m---------------------------------------------------------------------------\u001b[0m",
      "\u001b[1;31mValueError\u001b[0m                                Traceback (most recent call last)",
      "Cell \u001b[1;32mIn[66], line 1\u001b[0m\n\u001b[1;32m----> 1\u001b[0m \u001b[38;5;28;43mint\u001b[39;49m\u001b[43m(\u001b[49m\u001b[38;5;124;43m\"\u001b[39;49m\u001b[38;5;124;43mhola\u001b[39;49m\u001b[38;5;124;43m\"\u001b[39;49m\u001b[43m)\u001b[49m\n",
      "\u001b[1;31mValueError\u001b[0m: invalid literal for int() with base 10: 'hola'"
     ]
    }
   ],
   "source": [
    "int(\"hola\")"
   ]
  },
  {
   "cell_type": "code",
   "execution_count": 68,
   "id": "24dfd1fc-9881-4090-b92e-0f7b77298a6e",
   "metadata": {},
   "outputs": [
    {
     "data": {
      "text/plain": [
       "float"
      ]
     },
     "execution_count": 68,
     "metadata": {},
     "output_type": "execute_result"
    }
   ],
   "source": [
    "b = 8.69445 #float\n",
    "type(b)\n"
   ]
  },
  {
   "cell_type": "code",
   "execution_count": 70,
   "id": "e85a7a5d-31c1-4ee6-9c5d-92e278d2ce3d",
   "metadata": {},
   "outputs": [
    {
     "name": "stdout",
     "output_type": "stream",
     "text": [
      " hola 8.69\n"
     ]
    }
   ],
   "source": [
    "print(f\" hola {b:.2f}\")"
   ]
  },
  {
   "cell_type": "code",
   "execution_count": 72,
   "id": "433d6bdf-08f9-49c6-adb5-7a278f573c96",
   "metadata": {},
   "outputs": [
    {
     "data": {
      "text/plain": [
       "3598.456"
      ]
     },
     "execution_count": 72,
     "metadata": {},
     "output_type": "execute_result"
    }
   ],
   "source": [
    "a = \"3598.456\"\n",
    "float(a)"
   ]
  },
  {
   "cell_type": "markdown",
   "id": "7fc27725-dd73-495a-a2d1-6a8a40bfb90a",
   "metadata": {},
   "source": [
    "## 3.3 Booleanos"
   ]
  },
  {
   "cell_type": "code",
   "execution_count": 74,
   "id": "0597d36f-f55c-48df-8e28-30c0bb20ba0d",
   "metadata": {},
   "outputs": [],
   "source": [
    "a = True\n",
    "b= False"
   ]
  },
  {
   "cell_type": "code",
   "execution_count": 75,
   "id": "4edabaf2-c0ea-48a1-914d-83d169e294c6",
   "metadata": {},
   "outputs": [
    {
     "data": {
      "text/plain": [
       "bool"
      ]
     },
     "execution_count": 75,
     "metadata": {},
     "output_type": "execute_result"
    }
   ],
   "source": [
    "type(a)"
   ]
  },
  {
   "cell_type": "code",
   "execution_count": 76,
   "id": "273f8443-6cde-4698-9607-8f1e89ff5dfe",
   "metadata": {},
   "outputs": [
    {
     "data": {
      "text/plain": [
       "False"
      ]
     },
     "execution_count": 76,
     "metadata": {},
     "output_type": "execute_result"
    }
   ],
   "source": [
    "a & b"
   ]
  },
  {
   "cell_type": "code",
   "execution_count": 77,
   "id": "d09f9a4b-ab68-4931-a887-6d6b0eccc398",
   "metadata": {},
   "outputs": [
    {
     "data": {
      "text/plain": [
       "False"
      ]
     },
     "execution_count": 77,
     "metadata": {},
     "output_type": "execute_result"
    }
   ],
   "source": [
    "a&b"
   ]
  },
  {
   "cell_type": "code",
   "execution_count": 78,
   "id": "9066fc04-2b70-48cd-b841-ca3fc8624d1f",
   "metadata": {},
   "outputs": [
    {
     "data": {
      "text/plain": [
       "True"
      ]
     },
     "execution_count": 78,
     "metadata": {},
     "output_type": "execute_result"
    }
   ],
   "source": [
    "a | b"
   ]
  },
  {
   "cell_type": "code",
   "execution_count": 80,
   "id": "71a99e44-0ffc-49c8-b3ed-1d38e157a460",
   "metadata": {},
   "outputs": [
    {
     "data": {
      "text/plain": [
       "-1"
      ]
     },
     "execution_count": 80,
     "metadata": {},
     "output_type": "execute_result"
    }
   ],
   "source": [
    "~b"
   ]
  },
  {
   "cell_type": "code",
   "execution_count": 81,
   "id": "37aaf0ef-a6b7-4758-baf0-0a7731c3512e",
   "metadata": {},
   "outputs": [
    {
     "data": {
      "text/plain": [
       "False"
      ]
     },
     "execution_count": 81,
     "metadata": {},
     "output_type": "execute_result"
    }
   ],
   "source": [
    "not(a)"
   ]
  },
  {
   "cell_type": "markdown",
   "id": "dffc8036-8da2-41ea-a424-0c19c795d09b",
   "metadata": {},
   "source": [
    "## 4 Condicionales"
   ]
  },
  {
   "cell_type": "code",
   "execution_count": 83,
   "id": "be6f344d-db57-4fc8-9610-91382c11ad21",
   "metadata": {},
   "outputs": [
    {
     "data": {
      "text/plain": [
       "True"
      ]
     },
     "execution_count": 83,
     "metadata": {},
     "output_type": "execute_result"
    }
   ],
   "source": [
    "42 == 42 # operador de comparacion"
   ]
  },
  {
   "cell_type": "code",
   "execution_count": 84,
   "id": "7c0f66f5-5d3f-4148-bd43-51bdc7e10453",
   "metadata": {},
   "outputs": [
    {
     "data": {
      "text/plain": [
       "True"
      ]
     },
     "execution_count": 84,
     "metadata": {},
     "output_type": "execute_result"
    }
   ],
   "source": [
    "\"hola\" == \"hola\""
   ]
  },
  {
   "cell_type": "code",
   "execution_count": 85,
   "id": "8a32e7c6-b273-47b3-9913-a56ad687ea24",
   "metadata": {},
   "outputs": [
    {
     "data": {
      "text/plain": [
       "False"
      ]
     },
     "execution_count": 85,
     "metadata": {},
     "output_type": "execute_result"
    }
   ],
   "source": [
    "\"hola\" != \"hola\" # diferencia de valores"
   ]
  },
  {
   "cell_type": "code",
   "execution_count": 90,
   "id": "2ded5a48-9afe-42b6-8ebb-4f8fe2345695",
   "metadata": {},
   "outputs": [
    {
     "name": "stdin",
     "output_type": "stream",
     "text": [
      "ingrese numero 24\n"
     ]
    },
    {
     "name": "stdout",
     "output_type": "stream",
     "text": [
      "no es cero\n",
      "texto del bloque\n"
     ]
    }
   ],
   "source": [
    "numero = int(input (\"ingrese numero\"))\n",
    "if(numero !=0 ):\n",
    "    print(\"no es cero\")\n",
    "    print(\"texto del bloque\")\n",
    "else:\n",
    "    print(\"es cero\")"
   ]
  },
  {
   "cell_type": "code",
   "execution_count": 100,
   "id": "ab261bf5-bb10-4cca-b12d-9295e167292e",
   "metadata": {},
   "outputs": [
    {
     "name": "stdin",
     "output_type": "stream",
     "text": [
      "ingrese un numero de dia:  7\n"
     ]
    },
    {
     "name": "stdout",
     "output_type": "stream",
     "text": [
      "fin de semana \n"
     ]
    }
   ],
   "source": [
    "dia = int(input(\"ingrese un numero de dia: \"))\n",
    "if(dia ==1 ):\n",
    "    dia_str = \"lunes\"\n",
    "elif(dia ==2 ):\n",
    "    dia_str =\"Martes\"\n",
    "elif(dia==3):\n",
    "    dia_str =\"Miercoles\"\n",
    "elif(dia==4):\n",
    "    dia_str =\"Jueves\"\n",
    "elif(dia==5):\n",
    "    dia_str =\"Viernes\"\n",
    "elif( (dia>=6) and (dia<=7) ):\n",
    "    dia_str=\"fin de semana \"\n",
    "else:\n",
    "    dia_str =\"No listado\"\n",
    "\n",
    "print(dia_str)"
   ]
  },
  {
   "cell_type": "markdown",
   "id": "98eb435c-e03f-496f-8b2c-6e6ed9cdd0d0",
   "metadata": {},
   "source": [
    "### 5. Ciclos"
   ]
  },
  {
   "cell_type": "code",
   "execution_count": 108,
   "id": "28343f7c-2370-493b-acec-cbc4376e4c74",
   "metadata": {},
   "outputs": [
    {
     "name": "stdin",
     "output_type": "stream",
     "text": [
      "ingrese un numero del 1 al 20 1\n"
     ]
    },
    {
     "name": "stdout",
     "output_type": "stream",
     "text": [
      "1\n"
     ]
    },
    {
     "name": "stdin",
     "output_type": "stream",
     "text": [
      "ingrese un numero del 1 al 20 2\n"
     ]
    },
    {
     "name": "stdout",
     "output_type": "stream",
     "text": [
      "2\n"
     ]
    },
    {
     "name": "stdin",
     "output_type": "stream",
     "text": [
      "ingrese un numero del 1 al 20 3\n"
     ]
    },
    {
     "name": "stdout",
     "output_type": "stream",
     "text": [
      "3\n"
     ]
    },
    {
     "name": "stdin",
     "output_type": "stream",
     "text": [
      "ingrese un numero del 1 al 20 4\n"
     ]
    },
    {
     "name": "stdout",
     "output_type": "stream",
     "text": [
      "4\n"
     ]
    },
    {
     "name": "stdin",
     "output_type": "stream",
     "text": [
      "ingrese un numero del 1 al 20 5\n"
     ]
    },
    {
     "name": "stdout",
     "output_type": "stream",
     "text": [
      "5\n"
     ]
    },
    {
     "name": "stdin",
     "output_type": "stream",
     "text": [
      "ingrese un numero del 1 al 20 6\n"
     ]
    },
    {
     "name": "stdout",
     "output_type": "stream",
     "text": [
      "6\n"
     ]
    },
    {
     "name": "stdin",
     "output_type": "stream",
     "text": [
      "ingrese un numero del 1 al 20 10\n"
     ]
    },
    {
     "name": "stdout",
     "output_type": "stream",
     "text": [
      "10\n",
      "saliendo...\n"
     ]
    }
   ],
   "source": [
    "valor_secreto =10\n",
    "valor =0\n",
    "while(valor != valor_secreto):\n",
    "    valor  = int(input(\"ingrese un numero del 1 al 20\"))\n",
    "    print(valor)\n",
    "\n",
    "print(\"saliendo...\")"
   ]
  },
  {
   "cell_type": "code",
   "execution_count": null,
   "id": "dfb214c9-2940-4204-b705-a6147c2862e8",
   "metadata": {},
   "outputs": [
    {
     "name": "stdin",
     "output_type": "stream",
     "text": [
      "ingrese un numero 12\n"
     ]
    },
    {
     "name": "stdout",
     "output_type": "stream",
     "text": [
      "saliendo ....\n"
     ]
    }
   ],
   "source": [
    "valor =0\n",
    "acc=0\n",
    "while True:\n",
    "    try:\n",
    "        nuevo = int(input(\"ingrese un numero\"))\n",
    "        acc = acc + nuevo\n",
    "        if(acc >=50):\n",
    "            break\n",
    "    except ValueError:\n",
    "        print(\"error - ingreso letra\")\n",
    "        break\n",
    "    finally:\n",
    "        print(\"saliendo ....\")\n",
    "\n",
    "print(f\"el acumulado es  {acc}\")"
   ]
  },
  {
   "cell_type": "markdown",
   "id": "8b95bf0b-67dd-4103-9489-890e9db8289a",
   "metadata": {},
   "source": [
    "## 6. Excepciones"
   ]
  },
  {
   "cell_type": "code",
   "execution_count": 126,
   "id": "d7f0b2db-6c69-46ab-b6b0-4ed3d605904c",
   "metadata": {},
   "outputs": [
    {
     "name": "stdin",
     "output_type": "stream",
     "text": [
      "ingrese un numero 12\n",
      "ingrese otro numero 0\n"
     ]
    },
    {
     "name": "stdout",
     "output_type": "stream",
     "text": [
      "Error - division por cero\n"
     ]
    }
   ],
   "source": [
    "try:\n",
    "    a = float(input(\"ingrese un numero\"))\n",
    "    b = float(input(\"ingrese otro numero\"))\n",
    "    c = a/b\n",
    "    print(\"el resultado es : \",c)\n",
    "except ValueError:\n",
    "    print(\"Ingreso una letra\")\n",
    "except ZeroDivisionError:\n",
    "    print(\"Error - division por cero\")\n",
    "\n",
    "\n"
   ]
  },
  {
   "cell_type": "code",
   "execution_count": 120,
   "id": "093e5b57-7d99-400c-8e50-f2bd5a782b62",
   "metadata": {},
   "outputs": [
    {
     "name": "stdin",
     "output_type": "stream",
     "text": [
      "ingrese otro numero \n"
     ]
    },
    {
     "ename": "ValueError",
     "evalue": "could not convert string to float: ''",
     "output_type": "error",
     "traceback": [
      "\u001b[1;31m---------------------------------------------------------------------------\u001b[0m",
      "\u001b[1;31mValueError\u001b[0m                                Traceback (most recent call last)",
      "Cell \u001b[1;32mIn[120], line 1\u001b[0m\n\u001b[1;32m----> 1\u001b[0m B\u001b[38;5;241m=\u001b[39m \u001b[38;5;28;43mfloat\u001b[39;49m\u001b[43m(\u001b[49m\u001b[38;5;28;43minput\u001b[39;49m\u001b[43m(\u001b[49m\u001b[38;5;124;43m\"\u001b[39;49m\u001b[38;5;124;43mingrese otro numero\u001b[39;49m\u001b[38;5;124;43m\"\u001b[39;49m\u001b[43m)\u001b[49m\u001b[43m)\u001b[49m\n",
      "\u001b[1;31mValueError\u001b[0m: could not convert string to float: ''"
     ]
    }
   ],
   "source": [
    "B= float(input(\"ingrese otro numero\"))\n"
   ]
  },
  {
   "cell_type": "code",
   "execution_count": 128,
   "id": "74696b5e-fbde-468c-b431-11e17f6cda6a",
   "metadata": {},
   "outputs": [
    {
     "name": "stdin",
     "output_type": "stream",
     "text": [
      "ingrese otro numero q\n"
     ]
    },
    {
     "name": "stdout",
     "output_type": "stream",
     "text": [
      "could not convert string to float: 'q'\n"
     ]
    }
   ],
   "source": [
    "try:\n",
    "    B= float(input(\"ingrese otro numero\"))\n",
    "except Exception as ex:\n",
    "    print(ex)"
   ]
  },
  {
   "cell_type": "code",
   "execution_count": null,
   "id": "b214857e-8468-45dc-9f75-5a0728f26820",
   "metadata": {},
   "outputs": [],
   "source": []
  }
 ],
 "metadata": {
  "kernelspec": {
   "display_name": "Python 3 (ipykernel)",
   "language": "python",
   "name": "python3"
  },
  "language_info": {
   "codemirror_mode": {
    "name": "ipython",
    "version": 3
   },
   "file_extension": ".py",
   "mimetype": "text/x-python",
   "name": "python",
   "nbconvert_exporter": "python",
   "pygments_lexer": "ipython3",
   "version": "3.11.5"
  }
 },
 "nbformat": 4,
 "nbformat_minor": 5
}
