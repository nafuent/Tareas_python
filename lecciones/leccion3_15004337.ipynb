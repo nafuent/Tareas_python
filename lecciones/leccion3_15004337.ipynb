{
 "cells": [
  {
   "cell_type": "markdown",
   "id": "77fc18e3",
   "metadata": {},
   "source": [
    "# 1. Funciones"
   ]
  },
  {
   "cell_type": "markdown",
   "id": "a6bbe17a",
   "metadata": {},
   "source": [
    "1. las funciones debe reprocesarse si se realiza algun cambio en el codigo si estamos en notebooks.\n",
    "2. Los errores se presentan al correr la funcion no al momento de correr el codigdo"
   ]
  },
  {
   "cell_type": "code",
   "execution_count": 3,
   "id": "84230b08",
   "metadata": {},
   "outputs": [],
   "source": [
    "def saludo():\n",
    "    print(\"hola a todos\")"
   ]
  },
  {
   "cell_type": "code",
   "execution_count": 4,
   "id": "64970812",
   "metadata": {},
   "outputs": [
    {
     "name": "stdout",
     "output_type": "stream",
     "text": [
      "hola a todos\n"
     ]
    }
   ],
   "source": [
    "saludo()"
   ]
  },
  {
   "cell_type": "code",
   "execution_count": 5,
   "id": "34a6a8bd",
   "metadata": {},
   "outputs": [],
   "source": [
    "def saludar_nombre(nombre,edad, profesion):\n",
    "    print(f\"hola {nombre} tienes {edad} eres {profesion}\")"
   ]
  },
  {
   "cell_type": "code",
   "execution_count": 15,
   "id": "db1f6cc9",
   "metadata": {},
   "outputs": [
    {
     "name": "stdout",
     "output_type": "stream",
     "text": [
      "hola jhon tienes 23 eres mecanico y eres de Guatemala\n"
     ]
    }
   ],
   "source": [
    "saludar_nombre(\"jhon\", 23,\"mecanico\")"
   ]
  },
  {
   "cell_type": "markdown",
   "id": "ffe8ae34",
   "metadata": {},
   "source": [
    "1. Los parametos con valores default debe estar depues de los parametros no default\n",
    "2. Se pueden declarar parametros default cone l valor tipo None (null)"
   ]
  },
  {
   "cell_type": "code",
   "execution_count": 12,
   "id": "5b35a64f",
   "metadata": {},
   "outputs": [],
   "source": [
    "def saludar_nombre(nombre,edad, profesion, pais=\"Guatemala\"):\n",
    "    print(f\"hola {nombre} tienes {edad} eres {profesion} y eres de {pais}\")"
   ]
  },
  {
   "cell_type": "code",
   "execution_count": 16,
   "id": "b0f6407d",
   "metadata": {},
   "outputs": [
    {
     "name": "stdout",
     "output_type": "stream",
     "text": [
      "hola maria tienes 21 eres estudiante y eres de Guatemala\n"
     ]
    }
   ],
   "source": [
    "saludar_nombre(\"maria\", 21,\"estudiante\")"
   ]
  },
  {
   "cell_type": "code",
   "execution_count": 28,
   "id": "c188e4a3",
   "metadata": {},
   "outputs": [],
   "source": [
    "def suma(a,b):\n",
    "    print(\"suma simple\")\n",
    "    return a+b"
   ]
  },
  {
   "cell_type": "code",
   "execution_count": 32,
   "id": "f3fb0f28",
   "metadata": {},
   "outputs": [],
   "source": [
    "def sumar(a: int,b: int)->int:\n",
    "    return (a+b)"
   ]
  },
  {
   "cell_type": "code",
   "execution_count": 34,
   "id": "cc2e7c80",
   "metadata": {},
   "outputs": [
    {
     "data": {
      "text/plain": [
       "'hola como estas'"
      ]
     },
     "execution_count": 34,
     "metadata": {},
     "output_type": "execute_result"
    }
   ],
   "source": [
    "sumar(\"hola \",\"como estas\")"
   ]
  },
  {
   "cell_type": "code",
   "execution_count": 45,
   "id": "9c3f1295",
   "metadata": {},
   "outputs": [],
   "source": [
    "def sumar(a: int, b: int):\n",
    "    if ( not isinstance(a, int) ) or ( not isinstance(b,int)):\n",
    "        print(\"error\")\n",
    "    else:\n",
    "        return a/b"
   ]
  },
  {
   "cell_type": "code",
   "execution_count": 50,
   "id": "25714cd2",
   "metadata": {},
   "outputs": [
    {
     "data": {
      "text/plain": [
       "0.25"
      ]
     },
     "execution_count": 50,
     "metadata": {},
     "output_type": "execute_result"
    }
   ],
   "source": [
    "sumar(2,8)"
   ]
  },
  {
   "cell_type": "code",
   "execution_count": 59,
   "id": "480ab54e",
   "metadata": {},
   "outputs": [],
   "source": [
    "def operar(a,b):\n",
    "    suma = a+b\n",
    "    resta = a-b\n",
    "    division =a /b\n",
    "    multiplicacion  = a*b\n",
    "    return suma, resta, division"
   ]
  },
  {
   "cell_type": "code",
   "execution_count": 60,
   "id": "b5d14a7c",
   "metadata": {},
   "outputs": [
    {
     "name": "stdout",
     "output_type": "stream",
     "text": [
      "13 -3 0.625\n"
     ]
    }
   ],
   "source": [
    "suma, rest, divi =operar(5,8)\n",
    "print(suma,rest,divi)"
   ]
  },
  {
   "cell_type": "code",
   "execution_count": 62,
   "id": "bc900fad",
   "metadata": {},
   "outputs": [
    {
     "data": {
      "text/plain": [
       "6"
      ]
     },
     "execution_count": 62,
     "metadata": {},
     "output_type": "execute_result"
    }
   ],
   "source": [
    "suma ,_,_ = operar(4,2)\n",
    "suma\n"
   ]
  },
  {
   "cell_type": "markdown",
   "id": "02a93536",
   "metadata": {},
   "source": [
    "# 2. Lista"
   ]
  },
  {
   "cell_type": "markdown",
   "id": "15256c0e",
   "metadata": {},
   "source": [
    "1. Indexables\n",
    "2. Dinamicas\n",
    "3. No son mismo tipo de dato\n"
   ]
  },
  {
   "cell_type": "code",
   "execution_count": 67,
   "id": "c9dc243f",
   "metadata": {},
   "outputs": [],
   "source": [
    "lista =[10,20,30,40,50,\"galileo\"]\n"
   ]
  },
  {
   "cell_type": "code",
   "execution_count": 68,
   "id": "b9c2c6f7",
   "metadata": {},
   "outputs": [
    {
     "data": {
      "text/plain": [
       "[10, 20, 30, 40, 50, 'galileo']"
      ]
     },
     "execution_count": 68,
     "metadata": {},
     "output_type": "execute_result"
    }
   ],
   "source": [
    "lista"
   ]
  },
  {
   "cell_type": "code",
   "execution_count": 69,
   "id": "92c9f944",
   "metadata": {},
   "outputs": [
    {
     "data": {
      "text/plain": [
       "6"
      ]
     },
     "execution_count": 69,
     "metadata": {},
     "output_type": "execute_result"
    }
   ],
   "source": [
    "len(lista)"
   ]
  },
  {
   "cell_type": "code",
   "execution_count": 70,
   "id": "8a5e8b9e",
   "metadata": {},
   "outputs": [
    {
     "data": {
      "text/plain": [
       "10"
      ]
     },
     "execution_count": 70,
     "metadata": {},
     "output_type": "execute_result"
    }
   ],
   "source": [
    "lista[0]"
   ]
  },
  {
   "cell_type": "code",
   "execution_count": 71,
   "id": "ffa5ef5d",
   "metadata": {},
   "outputs": [
    {
     "data": {
      "text/plain": [
       "'galileo'"
      ]
     },
     "execution_count": 71,
     "metadata": {},
     "output_type": "execute_result"
    }
   ],
   "source": [
    "lista[-1]"
   ]
  },
  {
   "cell_type": "code",
   "execution_count": 72,
   "id": "171f7cd4",
   "metadata": {},
   "outputs": [],
   "source": [
    "lista.append(60)"
   ]
  },
  {
   "cell_type": "code",
   "execution_count": 73,
   "id": "b8658328",
   "metadata": {},
   "outputs": [
    {
     "data": {
      "text/plain": [
       "[10, 20, 30, 40, 50, 'galileo', 60]"
      ]
     },
     "execution_count": 73,
     "metadata": {},
     "output_type": "execute_result"
    }
   ],
   "source": [
    "lista"
   ]
  },
  {
   "cell_type": "code",
   "execution_count": 74,
   "id": "b9327685",
   "metadata": {},
   "outputs": [],
   "source": [
    "lista.insert(2,\"IIO\")"
   ]
  },
  {
   "cell_type": "code",
   "execution_count": 75,
   "id": "8b9531ec",
   "metadata": {},
   "outputs": [
    {
     "data": {
      "text/plain": [
       "[10, 20, 'IIO', 30, 40, 50, 'galileo', 60]"
      ]
     },
     "execution_count": 75,
     "metadata": {},
     "output_type": "execute_result"
    }
   ],
   "source": [
    "lista"
   ]
  },
  {
   "cell_type": "code",
   "execution_count": 77,
   "id": "850cd964",
   "metadata": {},
   "outputs": [
    {
     "name": "stdout",
     "output_type": "stream",
     "text": [
      "IIO\n"
     ]
    }
   ],
   "source": [
    "a = lista.pop(1)\n",
    "print(a)"
   ]
  },
  {
   "cell_type": "code",
   "execution_count": 78,
   "id": "c5ec1255",
   "metadata": {},
   "outputs": [
    {
     "data": {
      "text/plain": [
       "[10, 30, 40, 50, 'galileo', 60]"
      ]
     },
     "execution_count": 78,
     "metadata": {},
     "output_type": "execute_result"
    }
   ],
   "source": [
    "lista\n"
   ]
  },
  {
   "cell_type": "code",
   "execution_count": 79,
   "id": "28a90362",
   "metadata": {},
   "outputs": [],
   "source": [
    "lista.remove(60)"
   ]
  },
  {
   "cell_type": "code",
   "execution_count": 80,
   "id": "b61b1b25",
   "metadata": {},
   "outputs": [
    {
     "data": {
      "text/plain": [
       "[10, 30, 40, 50, 'galileo']"
      ]
     },
     "execution_count": 80,
     "metadata": {},
     "output_type": "execute_result"
    }
   ],
   "source": [
    "lista\n"
   ]
  },
  {
   "cell_type": "code",
   "execution_count": 83,
   "id": "2da1b842",
   "metadata": {},
   "outputs": [
    {
     "data": {
      "text/plain": [
       "[20, 20, 60]"
      ]
     },
     "execution_count": 83,
     "metadata": {},
     "output_type": "execute_result"
    }
   ],
   "source": [
    "list1 = [20,20,60,60]\n",
    "list1.remove(60)\n",
    "list1\n"
   ]
  },
  {
   "cell_type": "code",
   "execution_count": 84,
   "id": "7784a49e",
   "metadata": {},
   "outputs": [
    {
     "name": "stdout",
     "output_type": "stream",
     "text": [
      "si\n"
     ]
    }
   ],
   "source": [
    "if (60 in list1):\n",
    "    print(\"si\")\n",
    "    "
   ]
  },
  {
   "cell_type": "markdown",
   "id": "8b9f9a4c",
   "metadata": {},
   "source": [
    "**in** busca elementos dentro de una estructura indexable funciona mejor que una busqueda directa con ciclos"
   ]
  },
  {
   "cell_type": "code",
   "execution_count": 85,
   "id": "54f2830d",
   "metadata": {},
   "outputs": [
    {
     "name": "stdout",
     "output_type": "stream",
     "text": [
      "eliminando un 60\n"
     ]
    },
    {
     "data": {
      "text/plain": [
       "[20, 20]"
      ]
     },
     "execution_count": 85,
     "metadata": {},
     "output_type": "execute_result"
    }
   ],
   "source": [
    "while (60 in list1):\n",
    "    print(\"eliminando un 60\")\n",
    "    list1.remove(60)\n",
    "list1"
   ]
  },
  {
   "cell_type": "code",
   "execution_count": 86,
   "id": "28f94300",
   "metadata": {},
   "outputs": [],
   "source": [
    "del lista[3]"
   ]
  },
  {
   "cell_type": "code",
   "execution_count": 87,
   "id": "fe80ba2a",
   "metadata": {},
   "outputs": [
    {
     "data": {
      "text/plain": [
       "[10, 30, 40, 'galileo']"
      ]
     },
     "execution_count": 87,
     "metadata": {},
     "output_type": "execute_result"
    }
   ],
   "source": [
    "lista\n"
   ]
  },
  {
   "cell_type": "code",
   "execution_count": 89,
   "id": "9ebf10aa",
   "metadata": {},
   "outputs": [
    {
     "data": {
      "text/plain": [
       "[30, 40]"
      ]
     },
     "execution_count": 89,
     "metadata": {},
     "output_type": "execute_result"
    }
   ],
   "source": [
    "lista[1:3]"
   ]
  },
  {
   "cell_type": "code",
   "execution_count": 91,
   "id": "efb9440e",
   "metadata": {},
   "outputs": [
    {
     "data": {
      "text/plain": [
       "[30, 'galileo']"
      ]
     },
     "execution_count": 91,
     "metadata": {},
     "output_type": "execute_result"
    }
   ],
   "source": [
    "lista [1:6:2]"
   ]
  },
  {
   "cell_type": "code",
   "execution_count": 92,
   "id": "dacfd3f6",
   "metadata": {},
   "outputs": [
    {
     "data": {
      "text/plain": [
       "[10, 40]"
      ]
     },
     "execution_count": 92,
     "metadata": {},
     "output_type": "execute_result"
    }
   ],
   "source": [
    "lista[::2]"
   ]
  },
  {
   "cell_type": "code",
   "execution_count": 93,
   "id": "ba7f6574",
   "metadata": {},
   "outputs": [
    {
     "data": {
      "text/plain": [
       "['galileo', 40, 30, 10]"
      ]
     },
     "execution_count": 93,
     "metadata": {},
     "output_type": "execute_result"
    }
   ],
   "source": [
    "lista[::-1]"
   ]
  },
  {
   "cell_type": "code",
   "execution_count": 94,
   "id": "cd64083f",
   "metadata": {},
   "outputs": [
    {
     "ename": "TypeError",
     "evalue": "'<' not supported between instances of 'str' and 'int'",
     "output_type": "error",
     "traceback": [
      "\u001b[1;31m---------------------------------------------------------------------------\u001b[0m",
      "\u001b[1;31mTypeError\u001b[0m                                 Traceback (most recent call last)",
      "Cell \u001b[1;32mIn[94], line 1\u001b[0m\n\u001b[1;32m----> 1\u001b[0m lista\u001b[38;5;241m.\u001b[39msort()\n",
      "\u001b[1;31mTypeError\u001b[0m: '<' not supported between instances of 'str' and 'int'"
     ]
    }
   ],
   "source": [
    "lista.sort()"
   ]
  },
  {
   "cell_type": "code",
   "execution_count": 95,
   "id": "e81a3868",
   "metadata": {},
   "outputs": [],
   "source": [
    "lista = [10,50,80,90,20]"
   ]
  },
  {
   "cell_type": "code",
   "execution_count": 96,
   "id": "5157e482",
   "metadata": {},
   "outputs": [],
   "source": [
    "lista.sort(reverse=True)"
   ]
  },
  {
   "cell_type": "code",
   "execution_count": 97,
   "id": "47fc91ea",
   "metadata": {},
   "outputs": [
    {
     "data": {
      "text/plain": [
       "[90, 80, 50, 20, 10]"
      ]
     },
     "execution_count": 97,
     "metadata": {},
     "output_type": "execute_result"
    }
   ],
   "source": [
    "lista"
   ]
  },
  {
   "cell_type": "code",
   "execution_count": 99,
   "id": "a605dff3",
   "metadata": {},
   "outputs": [],
   "source": [
    "lista.reverse()"
   ]
  },
  {
   "cell_type": "code",
   "execution_count": 100,
   "id": "36f5b791",
   "metadata": {},
   "outputs": [
    {
     "data": {
      "text/plain": [
       "[90, 80, 50, 20, 10]"
      ]
     },
     "execution_count": 100,
     "metadata": {},
     "output_type": "execute_result"
    }
   ],
   "source": [
    "lista"
   ]
  },
  {
   "cell_type": "code",
   "execution_count": 101,
   "id": "4ce2cf44",
   "metadata": {},
   "outputs": [
    {
     "data": {
      "text/plain": [
       "2"
      ]
     },
     "execution_count": 101,
     "metadata": {},
     "output_type": "execute_result"
    }
   ],
   "source": [
    "lista.index(50) #indice del valor 50"
   ]
  },
  {
   "cell_type": "code",
   "execution_count": 102,
   "id": "8357ac60",
   "metadata": {},
   "outputs": [
    {
     "data": {
      "text/plain": [
       "1"
      ]
     },
     "execution_count": 102,
     "metadata": {},
     "output_type": "execute_result"
    }
   ],
   "source": [
    "lista.count(80)"
   ]
  },
  {
   "cell_type": "markdown",
   "id": "6295205b",
   "metadata": {},
   "source": [
    "# 3. Cilco For"
   ]
  },
  {
   "cell_type": "markdown",
   "id": "aa4647d5",
   "metadata": {},
   "source": [
    "JAVA\n",
    "\n",
    "for (int i=0; i!=10; i++){\n",
    "\n",
    "}"
   ]
  },
  {
   "cell_type": "code",
   "execution_count": 104,
   "id": "27d96fc6",
   "metadata": {},
   "outputs": [
    {
     "name": "stdout",
     "output_type": "stream",
     "text": [
      "50\n",
      "20\n",
      "30\n",
      "80\n",
      "90\n",
      "120\n"
     ]
    }
   ],
   "source": [
    "lista = [50,20,30,80,90,120]\n",
    "for valor in lista:\n",
    "    print(valor)"
   ]
  },
  {
   "cell_type": "code",
   "execution_count": 105,
   "id": "8456acc0",
   "metadata": {},
   "outputs": [
    {
     "name": "stdout",
     "output_type": "stream",
     "text": [
      "0\n",
      "1\n",
      "2\n",
      "3\n",
      "4\n",
      "5\n",
      "6\n",
      "7\n",
      "8\n",
      "9\n"
     ]
    }
   ],
   "source": [
    "for i in range(10):\n",
    "    print(i)"
   ]
  },
  {
   "cell_type": "code",
   "execution_count": 108,
   "id": "befa996a",
   "metadata": {},
   "outputs": [
    {
     "name": "stdout",
     "output_type": "stream",
     "text": [
      "1\n",
      "101\n",
      "201\n",
      "301\n",
      "401\n"
     ]
    }
   ],
   "source": [
    "for i in range(1,500,100):\n",
    "    print(i)"
   ]
  },
  {
   "cell_type": "code",
   "execution_count": 109,
   "id": "19890336",
   "metadata": {},
   "outputs": [
    {
     "data": {
      "text/plain": [
       "[0, 1, 2, 3, 4, 5, 6, 7, 8, 9]"
      ]
     },
     "execution_count": 109,
     "metadata": {},
     "output_type": "execute_result"
    }
   ],
   "source": [
    "list(range(10))"
   ]
  },
  {
   "cell_type": "code",
   "execution_count": 111,
   "id": "95aea2a8",
   "metadata": {},
   "outputs": [
    {
     "name": "stdout",
     "output_type": "stream",
     "text": [
      "el valor del indice 0 es 50\n",
      "el valor del indice 1 es 20\n",
      "el valor del indice 2 es 30\n",
      "el valor del indice 3 es 80\n",
      "el valor del indice 4 es 90\n",
      "el valor del indice 5 es 120\n"
     ]
    }
   ],
   "source": [
    "for index, valor in enumerate(lista):\n",
    "    print(f\"el valor del indice {index} es {valor}\")"
   ]
  },
  {
   "cell_type": "code",
   "execution_count": 113,
   "id": "15b00446",
   "metadata": {},
   "outputs": [],
   "source": [
    "for index, valor in enumerate(lista):\n",
    "    lista[index] = valor **2"
   ]
  },
  {
   "cell_type": "code",
   "execution_count": 115,
   "id": "bf3384e1",
   "metadata": {},
   "outputs": [
    {
     "data": {
      "text/plain": [
       "[2500, 400, 900, 6400, 8100, 14400]"
      ]
     },
     "execution_count": 115,
     "metadata": {},
     "output_type": "execute_result"
    }
   ],
   "source": [
    "lista"
   ]
  },
  {
   "cell_type": "markdown",
   "id": "2177cec6",
   "metadata": {},
   "source": [
    "### comprehensions"
   ]
  },
  {
   "cell_type": "code",
   "execution_count": 119,
   "id": "fc6bb53b",
   "metadata": {},
   "outputs": [
    {
     "name": "stdout",
     "output_type": "stream",
     "text": [
      "['A', 'B', 'C', 'D', 'E', 'F', 'G']\n"
     ]
    }
   ],
   "source": [
    "letras = [\"a\",\"b\",\"c\",\"d\",\"e\",\"f\",\"g\"]\n",
    "mayus =[]\n",
    "for valor in letras:\n",
    "    mayus.append(valor.upper())\n",
    "print(mayus)"
   ]
  },
  {
   "cell_type": "code",
   "execution_count": 120,
   "id": "43ade068",
   "metadata": {},
   "outputs": [
    {
     "data": {
      "text/plain": [
       "['A', 'B', 'C', 'D', 'E', 'F', 'G']"
      ]
     },
     "execution_count": 120,
     "metadata": {},
     "output_type": "execute_result"
    }
   ],
   "source": [
    "[valor.upper() for valor in letras]"
   ]
  },
  {
   "cell_type": "code",
   "execution_count": 126,
   "id": "ef0a9deb",
   "metadata": {},
   "outputs": [],
   "source": [
    "import math\n",
    "def exp_neg(x):\n",
    "    return round(math.e**-x,5)\n",
    "    "
   ]
  },
  {
   "cell_type": "code",
   "execution_count": 122,
   "id": "212efca3",
   "metadata": {},
   "outputs": [],
   "source": [
    "lista = list(range(6))"
   ]
  },
  {
   "cell_type": "code",
   "execution_count": 129,
   "id": "3e065e64",
   "metadata": {},
   "outputs": [],
   "source": [
    "lista_exp_neg =[exp_neg(x) for x in lista]"
   ]
  },
  {
   "cell_type": "code",
   "execution_count": 130,
   "id": "ea2f8ab0",
   "metadata": {},
   "outputs": [
    {
     "data": {
      "text/plain": [
       "[0, 1, 2, 3, 4, 5]"
      ]
     },
     "execution_count": 130,
     "metadata": {},
     "output_type": "execute_result"
    }
   ],
   "source": [
    "lista"
   ]
  },
  {
   "cell_type": "code",
   "execution_count": 131,
   "id": "2b4aa181",
   "metadata": {},
   "outputs": [
    {
     "data": {
      "text/plain": [
       "[1.0, 0.36788, 0.13534, 0.04979, 0.01832, 0.00674]"
      ]
     },
     "execution_count": 131,
     "metadata": {},
     "output_type": "execute_result"
    }
   ],
   "source": [
    "lista_exp_neg"
   ]
  },
  {
   "cell_type": "markdown",
   "id": "8f3791e4",
   "metadata": {},
   "source": [
    "## Tuplas"
   ]
  },
  {
   "cell_type": "markdown",
   "id": "2362f49f",
   "metadata": {},
   "source": [
    "las tuplas son inmutables, no se pueden modificar"
   ]
  },
  {
   "cell_type": "code",
   "execution_count": 132,
   "id": "044579ba",
   "metadata": {},
   "outputs": [
    {
     "data": {
      "text/plain": [
       "(1, 2, 3)"
      ]
     },
     "execution_count": 132,
     "metadata": {},
     "output_type": "execute_result"
    }
   ],
   "source": [
    "tupla =(1,2,3)\n",
    "tupla"
   ]
  },
  {
   "cell_type": "code",
   "execution_count": 133,
   "id": "e443cac5",
   "metadata": {},
   "outputs": [
    {
     "data": {
      "text/plain": [
       "1"
      ]
     },
     "execution_count": 133,
     "metadata": {},
     "output_type": "execute_result"
    }
   ],
   "source": [
    "tupla[0]"
   ]
  },
  {
   "cell_type": "code",
   "execution_count": 134,
   "id": "b9b72323",
   "metadata": {},
   "outputs": [
    {
     "ename": "TypeError",
     "evalue": "'tuple' object does not support item assignment",
     "output_type": "error",
     "traceback": [
      "\u001b[1;31m---------------------------------------------------------------------------\u001b[0m",
      "\u001b[1;31mTypeError\u001b[0m                                 Traceback (most recent call last)",
      "Cell \u001b[1;32mIn[134], line 1\u001b[0m\n\u001b[1;32m----> 1\u001b[0m tupla[\u001b[38;5;241m1\u001b[39m]\u001b[38;5;241m=\u001b[39m\u001b[38;5;241m1\u001b[39m\n",
      "\u001b[1;31mTypeError\u001b[0m: 'tuple' object does not support item assignment"
     ]
    }
   ],
   "source": [
    "tupla[1]=1"
   ]
  },
  {
   "cell_type": "code",
   "execution_count": 139,
   "id": "e13fd631",
   "metadata": {},
   "outputs": [
    {
     "data": {
      "text/plain": [
       "False"
      ]
     },
     "execution_count": 139,
     "metadata": {},
     "output_type": "execute_result"
    }
   ],
   "source": [
    "10 in tupla"
   ]
  },
  {
   "cell_type": "code",
   "execution_count": 140,
   "id": "eff62d3c",
   "metadata": {},
   "outputs": [
    {
     "data": {
      "text/plain": [
       "1"
      ]
     },
     "execution_count": 140,
     "metadata": {},
     "output_type": "execute_result"
    }
   ],
   "source": [
    "tupla.count(3)"
   ]
  },
  {
   "cell_type": "code",
   "execution_count": 141,
   "id": "b28133fa",
   "metadata": {},
   "outputs": [],
   "source": [
    "tuplaDatos =(10,20,True, \"hola\", [4,5,6], 120)"
   ]
  },
  {
   "cell_type": "code",
   "execution_count": 142,
   "id": "89581d92",
   "metadata": {},
   "outputs": [
    {
     "data": {
      "text/plain": [
       "3"
      ]
     },
     "execution_count": 142,
     "metadata": {},
     "output_type": "execute_result"
    }
   ],
   "source": [
    "tuplaDatos.index(\"hola\")"
   ]
  },
  {
   "cell_type": "code",
   "execution_count": 143,
   "id": "1f8ffc33",
   "metadata": {},
   "outputs": [],
   "source": [
    "tuplaDatos = list(tuplaDatos)"
   ]
  },
  {
   "cell_type": "code",
   "execution_count": 144,
   "id": "cfeb41ea",
   "metadata": {},
   "outputs": [
    {
     "data": {
      "text/plain": [
       "[10, 20, True, 'hola', [4, 5, 6], 120]"
      ]
     },
     "execution_count": 144,
     "metadata": {},
     "output_type": "execute_result"
    }
   ],
   "source": [
    "tuplaDatos\n"
   ]
  },
  {
   "cell_type": "code",
   "execution_count": 145,
   "id": "8264381e",
   "metadata": {},
   "outputs": [],
   "source": [
    "numeros = (10,20,30,40,50,60)"
   ]
  },
  {
   "cell_type": "code",
   "execution_count": 146,
   "id": "50f5b0b2",
   "metadata": {},
   "outputs": [
    {
     "data": {
      "text/plain": [
       "(10, 20, 30, 40, 50, 60)"
      ]
     },
     "execution_count": 146,
     "metadata": {},
     "output_type": "execute_result"
    }
   ],
   "source": [
    "numeros"
   ]
  },
  {
   "cell_type": "code",
   "execution_count": 147,
   "id": "6b9acb82",
   "metadata": {},
   "outputs": [],
   "source": [
    "tempList = [x*10 for x in numeros]"
   ]
  },
  {
   "cell_type": "code",
   "execution_count": 148,
   "id": "3a0eb1f4",
   "metadata": {},
   "outputs": [
    {
     "data": {
      "text/plain": [
       "[100, 200, 300, 400, 500, 600]"
      ]
     },
     "execution_count": 148,
     "metadata": {},
     "output_type": "execute_result"
    }
   ],
   "source": [
    "tempList"
   ]
  },
  {
   "cell_type": "code",
   "execution_count": 149,
   "id": "617b0299",
   "metadata": {},
   "outputs": [],
   "source": [
    "numeros = tuple(tempList)"
   ]
  },
  {
   "cell_type": "code",
   "execution_count": 150,
   "id": "2cea8076",
   "metadata": {},
   "outputs": [
    {
     "data": {
      "text/plain": [
       "(100, 200, 300, 400, 500, 600)"
      ]
     },
     "execution_count": 150,
     "metadata": {},
     "output_type": "execute_result"
    }
   ],
   "source": [
    "numeros"
   ]
  },
  {
   "cell_type": "markdown",
   "id": "28ec2ab7",
   "metadata": {},
   "source": [
    "# 3. Diccionarios"
   ]
  },
  {
   "cell_type": "code",
   "execution_count": 157,
   "id": "8ac47f0a",
   "metadata": {},
   "outputs": [],
   "source": [
    "dict1 = {'1': \"javaScript\", 2:\"java\", 3:\"python\"}"
   ]
  },
  {
   "cell_type": "code",
   "execution_count": 153,
   "id": "44d6ecfb",
   "metadata": {},
   "outputs": [
    {
     "data": {
      "text/plain": [
       "{1: 'javaScript', 2: 'java', 3: 'python'}"
      ]
     },
     "execution_count": 153,
     "metadata": {},
     "output_type": "execute_result"
    }
   ],
   "source": [
    "dict1"
   ]
  },
  {
   "cell_type": "code",
   "execution_count": 159,
   "id": "34af885f",
   "metadata": {},
   "outputs": [
    {
     "data": {
      "text/plain": [
       "'javaScript'"
      ]
     },
     "execution_count": 159,
     "metadata": {},
     "output_type": "execute_result"
    }
   ],
   "source": [
    "dict1[\"1\"]"
   ]
  },
  {
   "cell_type": "code",
   "execution_count": 156,
   "id": "e3ed223c",
   "metadata": {},
   "outputs": [
    {
     "ename": "KeyError",
     "evalue": "5",
     "output_type": "error",
     "traceback": [
      "\u001b[1;31m---------------------------------------------------------------------------\u001b[0m",
      "\u001b[1;31mKeyError\u001b[0m                                  Traceback (most recent call last)",
      "Cell \u001b[1;32mIn[156], line 1\u001b[0m\n\u001b[1;32m----> 1\u001b[0m dict1[\u001b[38;5;241m5\u001b[39m]\n",
      "\u001b[1;31mKeyError\u001b[0m: 5"
     ]
    }
   ],
   "source": [
    "dict1[5]"
   ]
  },
  {
   "cell_type": "code",
   "execution_count": 162,
   "id": "866a8fda",
   "metadata": {},
   "outputs": [
    {
     "data": {
      "text/plain": [
       "'java'"
      ]
     },
     "execution_count": 162,
     "metadata": {},
     "output_type": "execute_result"
    }
   ],
   "source": [
    "dict1[2]"
   ]
  },
  {
   "cell_type": "code",
   "execution_count": 165,
   "id": "d01b1365",
   "metadata": {},
   "outputs": [],
   "source": [
    "dict1[\"hola\"]=\"c#\""
   ]
  },
  {
   "cell_type": "code",
   "execution_count": 166,
   "id": "ea5e759a",
   "metadata": {},
   "outputs": [
    {
     "data": {
      "text/plain": [
       "{'1': 'javaScript', 2: 'java', 3: 'python', 'hola': 'c#'}"
      ]
     },
     "execution_count": 166,
     "metadata": {},
     "output_type": "execute_result"
    }
   ],
   "source": [
    "dict1"
   ]
  },
  {
   "cell_type": "code",
   "execution_count": 169,
   "id": "7b4d6002",
   "metadata": {},
   "outputs": [],
   "source": [
    "dict2 = {\"holra\":\"19:55\",\n",
    "        \"valores\":{\"humedad\":35,\"temperatura\":40,\"prec\":50}}"
   ]
  },
  {
   "cell_type": "code",
   "execution_count": 170,
   "id": "0f7272e8",
   "metadata": {},
   "outputs": [
    {
     "data": {
      "text/plain": [
       "40"
      ]
     },
     "execution_count": 170,
     "metadata": {},
     "output_type": "execute_result"
    }
   ],
   "source": [
    "dict2[\"valores\"][\"temperatura\"]"
   ]
  },
  {
   "cell_type": "code",
   "execution_count": 171,
   "id": "f3cf6376",
   "metadata": {},
   "outputs": [
    {
     "data": {
      "text/plain": [
       "['javaScript', 'java', 'python', 'c#']"
      ]
     },
     "execution_count": 171,
     "metadata": {},
     "output_type": "execute_result"
    }
   ],
   "source": [
    "list(dict1.values())"
   ]
  },
  {
   "cell_type": "code",
   "execution_count": 174,
   "id": "d7662b28",
   "metadata": {},
   "outputs": [
    {
     "data": {
      "text/plain": [
       "['1', 2, 3, 'hola']"
      ]
     },
     "execution_count": 174,
     "metadata": {},
     "output_type": "execute_result"
    }
   ],
   "source": [
    "list(dict1.keys())"
   ]
  },
  {
   "cell_type": "code",
   "execution_count": 175,
   "id": "76f7f2af",
   "metadata": {},
   "outputs": [
    {
     "data": {
      "text/plain": [
       "[('1', 'javaScript'), (2, 'java'), (3, 'python'), ('hola', 'c#')]"
      ]
     },
     "execution_count": 175,
     "metadata": {},
     "output_type": "execute_result"
    }
   ],
   "source": [
    "list(dict1.items())"
   ]
  },
  {
   "cell_type": "code",
   "execution_count": 182,
   "id": "7349b69e",
   "metadata": {},
   "outputs": [],
   "source": [
    "dict2={k: v for k, v in dict1.items()}"
   ]
  },
  {
   "cell_type": "code",
   "execution_count": 183,
   "id": "58dd2911",
   "metadata": {},
   "outputs": [
    {
     "data": {
      "text/plain": [
       "{'1': 'javaScript', 2: 'java', 3: 'python', 'hola': 'c#'}"
      ]
     },
     "execution_count": 183,
     "metadata": {},
     "output_type": "execute_result"
    }
   ],
   "source": [
    "dict2"
   ]
  },
  {
   "cell_type": "code",
   "execution_count": null,
   "id": "9b7ae42e",
   "metadata": {},
   "outputs": [],
   "source": []
  }
 ],
 "metadata": {
  "kernelspec": {
   "display_name": "Python 3 (ipykernel)",
   "language": "python",
   "name": "python3"
  },
  "language_info": {
   "codemirror_mode": {
    "name": "ipython",
    "version": 3
   },
   "file_extension": ".py",
   "mimetype": "text/x-python",
   "name": "python",
   "nbconvert_exporter": "python",
   "pygments_lexer": "ipython3",
   "version": "3.11.5"
  }
 },
 "nbformat": 4,
 "nbformat_minor": 5
}
