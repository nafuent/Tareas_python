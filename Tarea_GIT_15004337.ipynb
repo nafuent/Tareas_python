{
 "cells": [
  {
   "cell_type": "markdown",
   "id": "af392e5f",
   "metadata": {},
   "source": [
    "# ¿Qué es Git?\n",
    "\n",
    "Es un sistema de control de versiones creado por Linus Torvalds, el objetivo de un sistema de control de versiones es poder registrar los cambios que se realicen en archivos de texto a travez del tiempo, de tal forma que es posible recuperar versiones especificas, de la misma forma permite la colaboracion de mas de un usuario sobre un archivo o grupo de archivos, pudiendo asi llevar el control especifico sobre los cambios realizados por un usuario y en que momento se realizo.\n",
    "\n",
    "\n",
    "## ¿Qué es GitHub?\n",
    "Es un servicio que permite alojar proyectos utilizando el sistema de control de versiones Git. Se utiliza principalmente para la creación de código fuente de software de computadora.\n",
    "\n",
    "Caracteristicas:\n",
    "1. Permite tener repositorios publicos y privado, por lo general los repositorios privados son de paga.\n",
    "2. Permite la colaboracion entre proyectos propios de otras personas\n",
    "3. Al ser una plataforma en internet, se facilita la distribucion del proyecto.\n",
    "\n",
    "\n",
    "## ¿Como usar Git?\n",
    "Actualmente se puede utilizar Git en una computadora descargandola desde [Git.com](https://git-scm.com/downloads), esta disponible para sistemas operativos como Windows, Linux y macOS.\n",
    "\n",
    "Debemos considerar que Git cuenta con 3 estados principales:\n",
    "1. Staged: Archivo presenta cambios desde que se obtuvo del repositorio, pero ha sido añadida al área de preparación\n",
    "2. Modified: Archivo presenta cambios desde que se obtuvo del repositorio, pero no se ha preparado.\n",
    "3. Committed: El archivo(s) está en el directorio de Git, se considera confirmada (committed)\n",
    "\n",
    "\n",
    "\n",
    "\n"
   ]
  },
  {
   "cell_type": "markdown",
   "id": "54c98cba",
   "metadata": {},
   "source": [
    "### Inicializar repositorio\n"
   ]
  },
  {
   "cell_type": "markdown",
   "id": "47d2dec1",
   "metadata": {},
   "source": [
    "Desde la terminal de Git Bash, debemos estar en la carpeta en la cual deseamos iniciar un repositorio y utilizar el comando:"
   ]
  },
  {
   "cell_type": "markdown",
   "id": "e36cf5cf",
   "metadata": {},
   "source": [
    "`code` **git init**"
   ]
  },
  {
   "cell_type": "markdown",
   "id": "7622fd0d",
   "metadata": {},
   "source": [
    "Posteriormente se pueden agregar archivo a dicha carpeta(repositorio), posterior mente se podran visualizar los cambios hecho sobre el repositorio con el comando:\n",
    "\n",
    "`code` **git status**\n",
    "\n",
    "con este comando se podran visualizar los estados antes mencionados:\n",
    "\n",
    "<img src=\"https://git-scm.com/figures/18333fig0201-tn.png\" />\n",
    "\n",
    "\n",
    "Los archivos que no se encuentran "
   ]
  },
  {
   "cell_type": "code",
   "execution_count": null,
   "id": "d8367e66",
   "metadata": {},
   "outputs": [],
   "source": []
  }
 ],
 "metadata": {
  "kernelspec": {
   "display_name": "Python 3 (ipykernel)",
   "language": "python",
   "name": "python3"
  },
  "language_info": {
   "codemirror_mode": {
    "name": "ipython",
    "version": 3
   },
   "file_extension": ".py",
   "mimetype": "text/x-python",
   "name": "python",
   "nbconvert_exporter": "python",
   "pygments_lexer": "ipython3",
   "version": "3.11.5"
  }
 },
 "nbformat": 4,
 "nbformat_minor": 5
}
