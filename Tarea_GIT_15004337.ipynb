{
 "cells": [
  {
   "cell_type": "markdown",
   "id": "d7f1b191",
   "metadata": {},
   "source": [
    "# ¿Qué es Git?\n",
    "\n",
    "Es un sistema de control de versiones creado por Linus Torvalds, el objetivo de un sistema de control de versiones es poder registrar los cambios que se realicen en archivos de texto a travez del tiempo, de tal forma que es posible recuperar versiones especificas, de la misma forma permite la colaboracion de mas de un usuario sobre un archivo o grupo de archivos, pudiendo asi llevar el control especifico sobre los cambios realizados por un usuario y en que momento se realizo.\n",
    "\n",
    "\n",
    "## ¿Qué es GitHub?\n",
    "Es un servicio que permite alojar proyectos utilizando el sistema de control de versiones Git. Se utiliza principalmente para la creación de código fuente de software de computadora.\n",
    "\n",
    "Caracteristicas:\n",
    "1. Permite tener repositorios publicos y privado, por lo general los repositorios privados son de paga.\n",
    "2. Permite la colaboracion entre proyectos propios de otras personas\n",
    "3. Al ser una plataforma en internet, se facilita la distribucion del proyecto.\n",
    "\n",
    "\n",
    "## ¿Como usar Git?\n",
    "Actualmente se puede utilizar Git en una computadora descargandola desde [Git.com](https://git-scm.com/downloads), esta disponible para sistemas operativos como Windows, Linux y macOS.\n",
    "\n",
    "Debemos considerar que Git cuenta con 3 estados principales:\n",
    "1. Staged: Archivo presenta cambios desde que se obtuvo del repositorio, pero ha sido añadida al área de preparación\n",
    "2. Modified: Archivo presenta cambios desde que se obtuvo del repositorio, pero no se ha preparado.\n",
    "3. Committed: El archivo(s) está en el directorio de Git, se considera confirmada (committed)\n",
    "\n",
    "\n",
    "\n",
    "\n"
   ]
  },
  {
   "cell_type": "markdown",
   "id": "40dd51b8",
   "metadata": {},
   "source": [
    "### Inicializar repositorio\n",
    "\n",
    "Desde la terminal de Git Bash, debemos estar en la carpeta en la cual deseamos iniciar un repositorio y utilizar el comando:\n",
    "\n",
    "`code` **git init**\n"
   ]
  },
  {
   "cell_type": "markdown",
   "id": "5a73cb7a",
   "metadata": {},
   "source": [
    "Posteriormente se pueden agregar archivo a dicha carpeta(repositorio), posterior mente se podran visualizar los cambios hecho sobre el repositorio con el comando:\n",
    "\n",
    "`code` **git status**\n",
    "\n",
    "con este comando se podran visualizar los estados antes mencionados:\n",
    "\n",
    "<img src=\"https://git-scm.com/figures/18333fig0201-tn.png\" />\n",
    "\n",
    "Se podran identificar los cambios mediante:\n",
    "1. Los archivos que no se encuentran incluidos o sufrieron cambios en el repositorio se marcaran en color rojo\n",
    "2. Los archivos que no sufrieron cambios se mostraran en color verde"
   ]
  },
  {
   "cell_type": "markdown",
   "id": "536c0720",
   "metadata": {},
   "source": [
    "### Agregar archivos al repositorio\n",
    "\n",
    "Para que los archivos puedan ser rastreados por Git, se debe agregar los archivos incluidos en la carpeta con el comando:\n",
    "\n",
    "`code`\n",
    "**git add nombreArchivo**\n",
    "\n",
    "tambien se puede usar el comando\n",
    "\n",
    "`code`\n",
    "**git add .** para agregar todos los archivos que se encuentran dentro del directorio\n"
   ]
  },
  {
   "cell_type": "markdown",
   "id": "a30809d0",
   "metadata": {},
   "source": [
    "### ¿Qué hacer una vez que se modifica un archivo?\n",
    "\n",
    "una vez modificado un archivo, y se requiere guardar esa version del archivo, se puede utilizar el comando:\n",
    "\n",
    "`code` \n",
    "**git commit -m \"comentario sobre la version de los archivos\"**\n",
    "\n",
    "#### ¿Como ver los cambio subidos al repositorio?\n",
    "para poder visualiar los cambios (commits) enviados al repositorio se puede utilizar el comando:\n",
    "\n",
    "`code`\n",
    "**git log**\n",
    "\n",
    "Dicho comando mostrará los commits enviados, tambien se podra visualizar hora, fecha y usuario\n",
    "\n",
    "#### ¿Como volver a una versión anterior del archivo?\n",
    "\n",
    "Primero se debe identificar el ID del commit al que queremos volver (con git log) y luego utilizar el siguiente comando:\n",
    "\n",
    "`code`\n",
    "**git checkout IdCommit**\n",
    "\n",
    "Si deseamos volver a la rama principal se debe usar el siguiente comando:\n",
    "\n",
    "`code`\n",
    "**git switch master**\n",
    "\n",
    "\n"
   ]
  },
  {
   "cell_type": "markdown",
   "id": "5a2ee207",
   "metadata": {},
   "source": [
    "### ¿Qué son las ramas?\n",
    "Una rama o branch es una versión del código del proyecto sobre el que se esta trabajando, estas ramas ayudan a mantener el orden en el control de versiones y manipular el código de forma segura.\n",
    "\n",
    "Al iniciar un repositorio (git init) todos los archivos que se coloquen dentro perteneceran a la rama principal (master) y por lo general todo lo que se encuentra en la rama master sera considerado como producción, las nuevas características y experimentos se colocaran en una rama llamada “development”, dichos cambios se uniran (merge) a  la rama master cuando estén listos.  \n",
    "\n",
    "#### Crear una rama\n",
    "para crear una nueva rama se puede utilizar el comando:\n",
    "\n",
    "`code` **git branch nuevaRama**\n",
    "\n",
    "#### Cambiar de rama\n",
    "\n",
    "para cambiarse entre ramas se pued utlizar el comando:\n",
    "\n",
    "`code` **git checkout nuevaRama**\n",
    "\n",
    "#### ¿Como unificar dos ramas (merge)?\n",
    "\n",
    "Si deseamos unir cambios realizados en dos ramas en una sola se debe seguir los siguientes pasos:\n",
    "1. Posicionarse en la rama destino (por ejemplo, la rama master) con **git checkout master**\n",
    "2. Luego ejecutar el comando: **git merge ramaOrigen\"**\n"
   ]
  },
  {
   "cell_type": "markdown",
   "id": "a87d4dd4",
   "metadata": {},
   "source": [
    "## ¿Como subir un repositorio a GitHub?\n",
    "\n",
    "Para publicar nuestro repositorio en la plataforma de GitHub, debemos seguir los siguientes pasos:\n",
    "\n",
    "1. Crear una cuenta en [GitHub](https://github.com) \n",
    "2. Crear un repositorio nuevo en GitHub\n",
    "3. Se agrega la URL de repositorio en Git con el comando: **git remote add origin url**\n",
    "4. Enviar nuestro repositorio GitHub con el comando: **git push origin master**\n",
    "\n",
    "**Nota:** para actualizar el repositorio local se debe utilizar el comando:\n",
    "\n",
    "`code`\n",
    "**git pull origin master**"
   ]
  },
  {
   "cell_type": "markdown",
   "id": "30c678de",
   "metadata": {},
   "source": [
    "### ¿Como clonar un repositorio remoto?\n",
    "para clonar un repositorio se puede utilizar el comando:\n",
    "\n",
    "`code`\n",
    "**git clone url**"
   ]
  },
  {
   "cell_type": "code",
   "execution_count": null,
   "id": "a4a54d9b",
   "metadata": {},
   "outputs": [],
   "source": []
  }
 ],
 "metadata": {
  "kernelspec": {
   "display_name": "Python 3 (ipykernel)",
   "language": "python",
   "name": "python3"
  },
  "language_info": {
   "codemirror_mode": {
    "name": "ipython",
    "version": 3
   },
   "file_extension": ".py",
   "mimetype": "text/x-python",
   "name": "python",
   "nbconvert_exporter": "python",
   "pygments_lexer": "ipython3",
   "version": "3.11.5"
  }
 },
 "nbformat": 4,
 "nbformat_minor": 5
}
