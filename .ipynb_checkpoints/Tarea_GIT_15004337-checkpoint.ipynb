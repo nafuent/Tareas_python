{
 "cells": [
  {
   "cell_type": "markdown",
   "id": "bfce4e1b",
   "metadata": {},
   "source": [
    "# ¿Qué es Git?\n",
    "\n",
    "Es un sistema de control de versiones creado por Linus Torvalds, el objetivo de un sistema de control de versiones es poder registrar los cambios que se realicen en archivos de texto a través del tiempo, de tal forma que es posible recuperar versiones específicas, de la misma forma permite la colaboración de más de un usuario sobre un archivo o grupo de archivos, pudiendo asi llevar el control específico sobre los cambios realizados por un usuario y en qué momento se realizó.\n",
    "\n",
    "## ¿Qué es GitHub?\n",
    "Es un servicio que permite alojar proyectos utilizando el sistema de control de versiones Git. Se utiliza principalmente para la creación de código fuente de software de computadora.\n",
    "\n",
    "Características:\n",
    "1. Permite tener repositorios públicos y privado, por lo general los repositorios privados son de paga.\n",
    "2. Permite la colaboración entre proyectos propios de otras personas\n",
    "3. Al ser una plataforma en internet, se facilita la distribución del proyecto.\n",
    "\n",
    "\n",
    "## ¿Como usar Git?\n",
    "Actualmente se puede utilizar Git en una computadora descargándola desde [Git.com](https://git-scm.com/downloads), está disponible para sistemas operativos como Windows, Linux y macOS.\n",
    "\n",
    "Debemos considerar que Git cuenta con 3 estados principales:\n",
    "1. Staged: Archivo presenta cambios desde que se obtuvo del repositorio, pero ha sido añadida al área de preparación\n",
    "2. Modified: Archivo presenta cambios desde que se obtuvo del repositorio, pero no se ha preparado.\n",
    "3. Committed: El archivo(s) está en el directorio de Git, se considera confirmada (committed)\n",
    "\n",
    "\n",
    "\n",
    "\n"
   ]
  },
  {
   "cell_type": "markdown",
   "id": "72a02dd5",
   "metadata": {},
   "source": [
    "### Inicializar repositorio\n",
    "\n",
    "Desde la terminal de Git Bash, debemos estar en la carpeta en la cual deseamos iniciar un repositorio y utilizar el comando:\n",
    "\n",
    "`code` **git init**\n"
   ]
  },
  {
   "cell_type": "markdown",
   "id": "f1abd568",
   "metadata": {},
   "source": [
    "Posteriormente se pueden agregar archivo a dicha carpeta(repositorio), posterior mente se podrán visualizar los cambios hecho sobre el repositorio con el comando:\n",
    "\n",
    "`code` **git status**\n",
    "\n",
    "con este comando se podrán visualizar los estados antes mencionados:\n",
    "\n",
    "<img src=\"https://git-scm.com/figures/18333fig0201-tn.png\" />\n",
    "\n",
    "Se podrán identificar los cambios mediante:\n",
    "1. Los archivos que no se encuentran incluidos o sufrieron cambios en el repositorio se marcaran en color rojo\n",
    "2. Los archivos que no sufrieron cambios se mostraran en color verde"
   ]
  },
  {
   "cell_type": "markdown",
   "id": "c49a7eeb",
   "metadata": {},
   "source": [
    "### Agregar archivos al repositorio\n",
    "\n",
    "Para que los archivos puedan ser rastreados por Git, se debe agregar los archivos incluidos en la carpeta con el comando:\n",
    "\n",
    "`code`\n",
    "**git add nombreArchivo**\n",
    "\n",
    "también se puede usar el comando\n",
    "\n",
    "`code`\n",
    "**git add .** para agregar todos los archivos que se encuentran dentro del directorio\n"
   ]
  },
  {
   "cell_type": "markdown",
   "id": "348b0046",
   "metadata": {},
   "source": [
    "### ¿Qué hacer una vez que se modifica un archivo?\n",
    "\n",
    "una vez modificado un archivo, y se requiere guardar esa versión del archivo, se puede utilizar el comando:\n",
    "\n",
    "`code` \n",
    "**git commit -m \"comentario sobre la version de los archivos\"**\n",
    "\n",
    "#### ¿Como ver los cambio subidos al repositorio?\n",
    "para poder visualizar los cambios (commits) enviados al repositorio se puede utilizar el comando:\n",
    "\n",
    "`code`\n",
    "**git log**\n",
    "\n",
    "Dicho comando mostrará los commits enviados, también se podrá visualizar hora, fecha y usuario\n",
    "\n",
    "#### ¿Como volver a una versión anterior del archivo?\n",
    "\n",
    "Primero se debe identificar el ID del commit al que queremos volver (con git log) y luego utilizar el siguiente comando:\n",
    "\n",
    "`code`\n",
    "**git checkout IdCommit**\n",
    "\n",
    "Si deseamos volver a la rama principal se debe usar el siguiente comando:\n",
    "\n",
    "`code`\n",
    "**git switch master**\n",
    "\n",
    "\n"
   ]
  },
  {
   "cell_type": "markdown",
   "id": "300beb76",
   "metadata": {},
   "source": [
    "### ¿Qué son las ramas?\n",
    "Una rama o branch es una versión del código del proyecto sobre el que se esta trabajando, estas ramas ayudan a mantener el orden en el control de versiones y manipular el código de forma segura.\n",
    "\n",
    "Al iniciar un repositorio (git init) todos los archivos que se coloquen dentro pertenecerán a la rama principal (master) y por lo general todo lo que se encuentra en la rama master será considerado como producción, las nuevas características y experimentos se colocaran en una rama llamada “development”, dichos cambios se unirán (merge) a  la rama master cuando estén listos.  \n",
    "\n",
    "#### Crear una rama\n",
    "para crear una nueva rama se puede utilizar el comando:\n",
    "\n",
    "`code` **git branch nuevaRama**\n",
    "\n",
    "#### Cambiar de rama\n",
    "\n",
    "para cambiarse entre ramas se puede utilizar el comando:\n",
    "\n",
    "`code` **git checkout nuevaRama**\n",
    "\n",
    "#### ¿Como unificar dos ramas (merge)?\n",
    "\n",
    "Si deseamos unir cambios realizados en dos ramas en una sola se debe seguir los siguientes pasos:\n",
    "1. Posicionarse en la rama destino (por ejemplo, la rama master) con **git checkout master**\n",
    "2. Luego ejecutar el comando: **git merge ramaOrigen\"**\n"
   ]
  },
  {
   "cell_type": "markdown",
   "id": "2e808237",
   "metadata": {},
   "source": [
    "## ¿Como subir un repositorio a GitHub?\n",
    "\n",
    "Para publicar nuestro repositorio en la plataforma de GitHub, debemos seguir los siguientes pasos:\n",
    "\n",
    "1. Crear una cuenta en [GitHub](https://github.com) \n",
    "2. Crear un repositorio nuevo en GitHub\n",
    "3. Se agrega la URL de repositorio en Git con el comando: **git remote add origin url**\n",
    "4. Enviar nuestro repositorio GitHub con el comando: **git push origin master**\n",
    "\n",
    "**Nota:** para actualizar el repositorio local se debe utilizar el comando:\n",
    "\n",
    "`code`\n",
    "**git pull origin master**"
   ]
  },
  {
   "cell_type": "markdown",
   "id": "e7e45af9",
   "metadata": {},
   "source": [
    "### ¿Como clonar un repositorio remoto?\n",
    "para clonar un repositorio se puede utilizar el comando:\n",
    "\n",
    "`code`\n",
    "**git clone url**"
   ]
  },
  {
   "cell_type": "markdown",
   "id": "27d8844f",
   "metadata": {},
   "source": [
    "## Magic Commands\n",
    "Son comandos especiales que ofrece IPython muy parecidas con el shell estándar de Python. Están disponibles en Jupyter Notebook, estos comandos nos permiten automatizar tareas.\n",
    "\n",
    "Existen dos tipos de Magic Commands:\n",
    "\n",
    "1. Line Magics: operan una línea y se identifican por empezar con un \"%\"\n",
    "2. Cell Magics: operan en múltiples líneas y se identifican por empezar con \"%%\"\n",
    "\n",
    "A continuación se muestra como enviar nuestro repositorio local a un repositorio remoto con CELL Magics:\n"
   ]
  },
  {
   "cell_type": "code",
   "execution_count": 18,
   "id": "297391f0",
   "metadata": {},
   "outputs": [
    {
     "name": "stdout",
     "output_type": "stream",
     "text": [
      "CPU times: total: 0 ns\n",
      "Wall time: 1.78 s\n"
     ]
    },
    {
     "data": {
      "text/plain": [
       "[<git.remote.PushInfo at 0x23513120b30>]"
      ]
     },
     "execution_count": 18,
     "metadata": {},
     "output_type": "execute_result"
    }
   ],
   "source": [
    "%%time\n",
    "import git\n",
    "directorio=r\"C:\\Users\\XPRS\\ciencia_datos\\Tareas_python\"\n",
    "repo = git.Repo(directorio) \n",
    "origin = repo.remote(name='origin') \n",
    "origin.push()\n"
   ]
  },
  {
   "cell_type": "markdown",
   "id": "cbf339c0",
   "metadata": {},
   "source": [
    "**Notas importantes:**\n",
    "1. Se debe tener instalado el módulo GitPyton en nuestra instalación de anaconda\n",
    "2. Git puede presentar un error con el código anterior (\"the current branch master has no upstream branch\"), puede ser solucionado con el comando (en git bash): **git config --global push.default current**"
   ]
  },
  {
   "cell_type": "code",
   "execution_count": null,
   "id": "2b50ea36",
   "metadata": {},
   "outputs": [],
   "source": []
  }
 ],
 "metadata": {
  "kernelspec": {
   "display_name": "Python 3 (ipykernel)",
   "language": "python",
   "name": "python3"
  },
  "language_info": {
   "codemirror_mode": {
    "name": "ipython",
    "version": 3
   },
   "file_extension": ".py",
   "mimetype": "text/x-python",
   "name": "python",
   "nbconvert_exporter": "python",
   "pygments_lexer": "ipython3",
   "version": "3.11.5"
  }
 },
 "nbformat": 4,
 "nbformat_minor": 5
}
