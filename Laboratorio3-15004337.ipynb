{
 "cells": [
  {
   "cell_type": "markdown",
   "id": "bfc2cd06",
   "metadata": {},
   "source": [
    "# Laboratorio: Análisis de Datos con Python"
   ]
  },
  {
   "cell_type": "markdown",
   "id": "21972c55",
   "metadata": {},
   "source": [
    "## Parte 1: Numpy:"
   ]
  },
  {
   "cell_type": "markdown",
   "id": "053c97a8",
   "metadata": {},
   "source": [
    "### 1) ¿Cuál es el tamaño en bytes de un array de 1000 elementos de tipo booleano?"
   ]
  },
  {
   "cell_type": "code",
   "execution_count": 20,
   "id": "8054215c",
   "metadata": {},
   "outputs": [
    {
     "name": "stdout",
     "output_type": "stream",
     "text": [
      "La cantidad de bytres para un arreglo de 1,000 elementos bolleanos  es: 8856\n"
     ]
    }
   ],
   "source": [
    "import sys\n",
    "\n",
    "arreglo = []\n",
    "\n",
    "for i in range(1000):\n",
    "    arreglo.append(True)\n",
    "    \n",
    "print(\"La cantidad de bytres para un arreglo de 1,000 elementos bolleanos  es:\", sys.getsizeof(arreglo))"
   ]
  },
  {
   "cell_type": "markdown",
   "id": "5ac775cb",
   "metadata": {},
   "source": [
    "### 2) Cree un array cuyos elementos sean los enteros pares en [1,100] y en orden decreciente. Muestre los 10 últimos por pantalla."
   ]
  },
  {
   "cell_type": "code",
   "execution_count": 34,
   "id": "d362ec65",
   "metadata": {},
   "outputs": [],
   "source": [
    "a = [i for i in range(0, 1001,2)]"
   ]
  },
  {
   "cell_type": "code",
   "execution_count": 38,
   "id": "e4409dd1",
   "metadata": {},
   "outputs": [
    {
     "name": "stdout",
     "output_type": "stream",
     "text": [
      "ultimos 10 elementos del array:  [982, 984, 986, 988, 990, 992, 994, 996, 998, 1000]\n"
     ]
    }
   ],
   "source": [
    "print(\"ultimos 10 elementos del array: \",a[-10:])"
   ]
  },
  {
   "cell_type": "markdown",
   "id": "6f36521b",
   "metadata": {},
   "source": [
    "### 3) Dado el array\n",
    "2 4 5 6\n",
    "\n",
    "0 3 7 4\n",
    "\n",
    "8 8 5 2\n",
    "\n",
    "1 5 6 1\n",
    "\n",
    "Seleccione con una instrucción el subarray de elementos \n",
    "\n",
    "0 3 7 4\n",
    "\n",
    "Después, seleccione el subarray de elementos\n",
    "\n",
    "2 5\n",
    "\n",
    "8 5"
   ]
  },
  {
   "cell_type": "code",
   "execution_count": 47,
   "id": "e7a7b1fa",
   "metadata": {},
   "outputs": [
    {
     "data": {
      "text/plain": [
       "array([[2, 4, 5, 6],\n",
       "       [0, 3, 7, 4],\n",
       "       [8, 8, 5, 2],\n",
       "       [1, 5, 6, 1]])"
      ]
     },
     "execution_count": 47,
     "metadata": {},
     "output_type": "execute_result"
    }
   ],
   "source": [
    "import numpy as np\n",
    "x= np.array([[2,4,5,6,],[0,3,7,4],[8,8,5,2] ,[1,5,6,1]]) \n",
    "x"
   ]
  },
  {
   "cell_type": "code",
   "execution_count": 53,
   "id": "3b2211b7",
   "metadata": {},
   "outputs": [
    {
     "name": "stdout",
     "output_type": "stream",
     "text": [
      "[0 3 7 4]\n"
     ]
    }
   ],
   "source": [
    "# respuesta 1\n",
    "# se toma toda la fila 1\n",
    "\n",
    "print(x[1])"
   ]
  },
  {
   "cell_type": "code",
   "execution_count": 109,
   "id": "d5faaa25",
   "metadata": {},
   "outputs": [
    {
     "data": {
      "text/plain": [
       "array([[2, 5],\n",
       "       [8, 5]])"
      ]
     },
     "execution_count": 109,
     "metadata": {},
     "output_type": "execute_result"
    }
   ],
   "source": [
    "## respuesta 2 \n",
    "# se toman de fila de la posicion 0 hasta la posicion 3 con step 2  de la misma manera para las columnas\n",
    "\n",
    "x[0:3:2, 0:3:2 ]"
   ]
  },
  {
   "cell_type": "markdown",
   "id": "27ea3275",
   "metadata": {},
   "source": [
    "### 4) Dados los arrays a = [1, 4, 2, 7] y b = [1, 3, 2, 9], obtenga la media aritmética de la diferencia (a-b). "
   ]
  },
  {
   "cell_type": "code",
   "execution_count": 114,
   "id": "d537f486",
   "metadata": {},
   "outputs": [
    {
     "name": "stdout",
     "output_type": "stream",
     "text": [
      "Media aritmetica de  la diferencia (a-b) [ 0  1  0 -2]: -0.25\n"
     ]
    }
   ],
   "source": [
    "a = np.array([1,4,2,7])\n",
    "b = np.array([1,3,2,9])\n",
    "\n",
    "c= a-b\n",
    "\n",
    "print(f\"Media aritmetica de  la diferencia (a-b) {c}: {np.mean(c)}\")\n"
   ]
  },
  {
   "cell_type": "markdown",
   "id": "e2b0b8de",
   "metadata": {},
   "source": [
    "### 5) Tengo valores de cordenadas (x, y) en las columnas del array\n",
    "\n",
    "1.33 4.5\n",
    "\n",
    "30.0 10.7\n",
    "\n",
    "70.2 0.5\n",
    "\n",
    "Agregue a este array las coordenadas (37.1, -3.6).\n",
    "Muestre en pantalla las dimensiones del nuevo\n",
    "array."
   ]
  },
  {
   "cell_type": "code",
   "execution_count": 158,
   "id": "48892e7b",
   "metadata": {},
   "outputs": [
    {
     "name": "stdout",
     "output_type": "stream",
     "text": [
      "Dimensiones del nuevo arreglo, filas: 4 columnas 2\n"
     ]
    }
   ],
   "source": [
    "x = np.array( [[1.33,4.5], [30.0,10.7],[70.2,0.5]], dtype=\"float\")\n",
    "\n",
    "x = np.append(x, [[37.1,-3.6]],axis = 0)\n",
    "\n",
    "print(\"Dimensiones del nuevo arreglo, filas:\",x.shape[0] ,\"columnas\", x.shape[1])\n",
    "\n"
   ]
  },
  {
   "cell_type": "markdown",
   "id": "e65e7ec5",
   "metadata": {},
   "source": [
    "### 6) Copie el array del ejercicio anterior. Traspóngalo (. Agregue ahora dos nuevos pares de coordenadas: (10.8, 3.0) y (35.8, 12.0)."
   ]
  },
  {
   "cell_type": "code",
   "execution_count": 178,
   "id": "ec691161",
   "metadata": {},
   "outputs": [
    {
     "name": "stdout",
     "output_type": "stream",
     "text": [
      "Arreglo transpuesto\n",
      "[[ 1.33 30.   70.2  10.8  35.8 ]\n",
      " [ 4.5  10.7   0.5   3.   12.  ]]\n"
     ]
    }
   ],
   "source": [
    "\n",
    "x = np.array( [[1.33,4.5], [30.0,10.7],[70.2,0.5]], dtype=\"float\")\n",
    "x = np.append(x, [[10.8,3.0],[35.8,12.0]],axis = 0)\n",
    "print(\"Arreglo transpuesto\")\n",
    "print(np.transpose(x))\n"
   ]
  },
  {
   "cell_type": "markdown",
   "id": "d886e299",
   "metadata": {},
   "source": [
    "## Parte 2: Exploración y Minería de Datos:\n",
    "Con el dataset nucleospoblacion.csv adjunto al laboratorio,\n",
    "luego responda las siguientes preguntas usando pandas y\n",
    "matplotlib."
   ]
  },
  {
   "cell_type": "markdown",
   "id": "b1afa183",
   "metadata": {},
   "source": [
    "### 1) ¿Cuántos Municipios tienen más de 100000 habitantes?."
   ]
  },
  {
   "cell_type": "code",
   "execution_count": 199,
   "id": "b0ddff2c",
   "metadata": {},
   "outputs": [
    {
     "data": {
      "text/plain": [
       "array(['Las Palmas de Gran Canaria', 'Telde',\n",
       "       'San Cristóbal de La Laguna', 'Santa Cruz de Tenerife', 'Badajoz',\n",
       "       'Cádiz', 'Jerez de la Frontera', 'A Coruña', 'Huelva', 'Ourense',\n",
       "       'Vigo', 'Alacant/Alicante', 'Vitoria-Gasteiz', 'Albacete',\n",
       "       'Elche/Elx', 'Torrevieja', 'Almería', 'Burgos', 'Algeciras',\n",
       "       'Castellón de la Plana/Castelló de la Plana', 'Córdoba', 'Granada',\n",
       "       'Donostia-San Sebastián', 'Jaén', 'León', 'Logroño',\n",
       "       'Alcalá de Henares', 'Alcobendas', 'Alcorcón', 'Fuenlabrada',\n",
       "       'Getafe', 'Leganés', 'Madrid', 'Móstoles', 'Parla',\n",
       "       'Torrejón de Ardoz', 'Málaga', 'Marbella', 'Cartagena', 'Murcia',\n",
       "       'Pamplona/Iruña', 'Gijón', 'Oviedo', 'Salamanca', 'Santander',\n",
       "       'Dos Hermanas', 'Sevilla', 'Valencia', 'Valladolid', 'Bilbao',\n",
       "       'Zaragoza', 'Palma', 'Badalona', 'Barcelona',\n",
       "       \"L'Hospitalet de Llobregat\", 'Mataró', 'Sabadell',\n",
       "       'Santa Coloma de Gramenet', 'Terrassa', 'Lleida', 'Reus',\n",
       "       'Tarragona'], dtype=object)"
      ]
     },
     "execution_count": 199,
     "metadata": {},
     "output_type": "execute_result"
    }
   ],
   "source": [
    "import pandas as pd\n",
    "\n",
    "datos = pd.read_csv(f\"./data/NucleosPoblacion.csv\")\n",
    "df = pd.DataFrame(datos)\n",
    "\n",
    "filtro1= df[ df[\"Poblacion\"]>100000]\n",
    "filtro1[\"Municipio\"].unique()\n"
   ]
  },
  {
   "cell_type": "markdown",
   "id": "ba765def",
   "metadata": {},
   "source": [
    "### 2) Realice una gráfica de barras sobre la polbación de cada ciudad, ordenela de menor a mayor y responda:\n",
    "- a. ¿Cuál es la segunda ciudad más poblada?\n",
    "- b. ¿Qué posición ocupa Granada en el ranking de las ciudades más pobladas?"
   ]
  },
  {
   "cell_type": "markdown",
   "id": "68880959",
   "metadata": {},
   "source": []
  },
  {
   "cell_type": "code",
   "execution_count": 218,
   "id": "61f3bb9e",
   "metadata": {},
   "outputs": [
    {
     "data": {
      "text/html": [
       "<div>\n",
       "<style scoped>\n",
       "    .dataframe tbody tr th:only-of-type {\n",
       "        vertical-align: middle;\n",
       "    }\n",
       "\n",
       "    .dataframe tbody tr th {\n",
       "        vertical-align: top;\n",
       "    }\n",
       "\n",
       "    .dataframe thead th {\n",
       "        text-align: right;\n",
       "    }\n",
       "</style>\n",
       "<table border=\"1\" class=\"dataframe\">\n",
       "  <thead>\n",
       "    <tr style=\"text-align: right;\">\n",
       "      <th></th>\n",
       "      <th>FID</th>\n",
       "      <th>OBJECTID</th>\n",
       "      <th>Texto</th>\n",
       "      <th>Poblacion</th>\n",
       "      <th>CodMun</th>\n",
       "      <th>Municipio</th>\n",
       "      <th>CodProvin</th>\n",
       "      <th>Provincia</th>\n",
       "      <th>X</th>\n",
       "      <th>Y</th>\n",
       "    </tr>\n",
       "  </thead>\n",
       "  <tbody>\n",
       "    <tr>\n",
       "      <th>0</th>\n",
       "      <td>0</td>\n",
       "      <td>1</td>\n",
       "      <td>Agüimes</td>\n",
       "      <td>29431.0</td>\n",
       "      <td>35002</td>\n",
       "      <td>Agüimes</td>\n",
       "      <td>35</td>\n",
       "      <td>Las Palmas</td>\n",
       "      <td>-15.446012</td>\n",
       "      <td>27.900542</td>\n",
       "    </tr>\n",
       "    <tr>\n",
       "      <th>1</th>\n",
       "      <td>1</td>\n",
       "      <td>2</td>\n",
       "      <td>Antigua</td>\n",
       "      <td>10458.0</td>\n",
       "      <td>35003</td>\n",
       "      <td>Antigua</td>\n",
       "      <td>35</td>\n",
       "      <td>Las Palmas</td>\n",
       "      <td>-14.013301</td>\n",
       "      <td>28.418966</td>\n",
       "    </tr>\n",
       "    <tr>\n",
       "      <th>2</th>\n",
       "      <td>2</td>\n",
       "      <td>3</td>\n",
       "      <td>Arrecife</td>\n",
       "      <td>58156.0</td>\n",
       "      <td>35004</td>\n",
       "      <td>Arrecife</td>\n",
       "      <td>35</td>\n",
       "      <td>Las Palmas</td>\n",
       "      <td>-13.551451</td>\n",
       "      <td>28.960649</td>\n",
       "    </tr>\n",
       "    <tr>\n",
       "      <th>3</th>\n",
       "      <td>3</td>\n",
       "      <td>4</td>\n",
       "      <td>Arucas</td>\n",
       "      <td>36745.0</td>\n",
       "      <td>35006</td>\n",
       "      <td>Arucas</td>\n",
       "      <td>35</td>\n",
       "      <td>Las Palmas</td>\n",
       "      <td>-15.521512</td>\n",
       "      <td>28.117496</td>\n",
       "    </tr>\n",
       "    <tr>\n",
       "      <th>4</th>\n",
       "      <td>4</td>\n",
       "      <td>5</td>\n",
       "      <td>Gáldar</td>\n",
       "      <td>24473.0</td>\n",
       "      <td>35009</td>\n",
       "      <td>Gáldar</td>\n",
       "      <td>35</td>\n",
       "      <td>Las Palmas</td>\n",
       "      <td>-15.654111</td>\n",
       "      <td>28.143873</td>\n",
       "    </tr>\n",
       "  </tbody>\n",
       "</table>\n",
       "</div>"
      ],
      "text/plain": [
       "   FID  OBJECTID     Texto  Poblacion  CodMun Municipio  CodProvin  \\\n",
       "0    0         1   Agüimes    29431.0   35002   Agüimes         35   \n",
       "1    1         2   Antigua    10458.0   35003   Antigua         35   \n",
       "2    2         3  Arrecife    58156.0   35004  Arrecife         35   \n",
       "3    3         4    Arucas    36745.0   35006    Arucas         35   \n",
       "4    4         5    Gáldar    24473.0   35009    Gáldar         35   \n",
       "\n",
       "    Provincia          X          Y  \n",
       "0  Las Palmas -15.446012  27.900542  \n",
       "1  Las Palmas -14.013301  28.418966  \n",
       "2  Las Palmas -13.551451  28.960649  \n",
       "3  Las Palmas -15.521512  28.117496  \n",
       "4  Las Palmas -15.654111  28.143873  "
      ]
     },
     "execution_count": 218,
     "metadata": {},
     "output_type": "execute_result"
    }
   ],
   "source": [
    "import matplotlib.pyplot as plt\n",
    "\n",
    "# visualizar datos\n",
    "df.head()\n"
   ]
  },
  {
   "cell_type": "code",
   "execution_count": 335,
   "id": "80580fe1",
   "metadata": {},
   "outputs": [
    {
     "data": {
      "text/plain": [
       "<Axes: xlabel='Provincia'>"
      ]
     },
     "execution_count": 335,
     "metadata": {},
     "output_type": "execute_result"
    },
    {
     "data": {
      "image/png": "[encoded data removed]",
      "text/plain": [
       "<Figure size 640x480 with 1 Axes>"
      ]
     },
     "metadata": {},
     "output_type": "display_data"
    }
   ],
   "source": [
    "#agrupar datos\n",
    "agrupado = df.groupby('Provincia')['Poblacion'].sum().sort_values(ascending=False)\n",
    "\n",
    "#graficar \n",
    "agrupado.plot(legend=True, kind=\"bar\")\n"
   ]
  },
  {
   "cell_type": "markdown",
   "id": "43e52bf1",
   "metadata": {},
   "source": [
    "#### a. ¿Cuál es la segunda ciudad más poblada?\n"
   ]
  },
  {
   "cell_type": "code",
   "execution_count": 360,
   "id": "46dbddcf",
   "metadata": {},
   "outputs": [
    {
     "name": "stdout",
     "output_type": "stream",
     "text": [
      " Segunda cuidad mas poblada : Barcelona\n"
     ]
    }
   ],
   "source": [
    "# convertir las series de la agrupacion en data frame\n",
    "res = pd.DataFrame( agrupado.reset_index())\n",
    "\n",
    "# imprimir la segunda ciudad mas poblada\n",
    "print(\" Segunda cuidad mas poblada :\" ,res.iloc[1][0])"
   ]
  },
  {
   "cell_type": "markdown",
   "id": "085d1f81",
   "metadata": {},
   "source": [
    "#### b. ¿Qué posición ocupa Granada en el ranking de las ciudades más pobladas?"
   ]
  },
  {
   "cell_type": "code",
   "execution_count": 368,
   "id": "7a27ed6a",
   "metadata": {},
   "outputs": [
    {
     "name": "stdout",
     "output_type": "stream",
     "text": [
      "posicion de Granda:  17\n"
     ]
    }
   ],
   "source": [
    "# posicion de grandada \n",
    "print(\"posicion de Granda: \", res[res[\"Provincia\"]==\"Granada\"].index[0]+1)"
   ]
  },
  {
   "cell_type": "code",
   "execution_count": null,
   "id": "d3ae7d59",
   "metadata": {},
   "outputs": [],
   "source": []
  }
 ],
 "metadata": {
  "kernelspec": {
   "display_name": "Python 3 (ipykernel)",
   "language": "python",
   "name": "python3"
  },
  "language_info": {
   "codemirror_mode": {
    "name": "ipython",
    "version": 3
   },
   "file_extension": ".py",
   "mimetype": "text/x-python",
   "name": "python",
   "nbconvert_exporter": "python",
   "pygments_lexer": "ipython3",
   "version": "3.11.5"
  }
 },
 "nbformat": 4,
 "nbformat_minor": 5
}
